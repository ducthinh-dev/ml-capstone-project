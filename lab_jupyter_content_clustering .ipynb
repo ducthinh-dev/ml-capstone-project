{
  "cells": [
    {
      "cell_type": "markdown",
      "metadata": {
        "id": "AuzUgjGIrGyH"
      },
      "source": [
        "<p style=\"text-align:center\">\n",
        "    <a href=\"https://skills.network/?utm_medium=Exinfluencer&utm_source=Exinfluencer&utm_content=000026UJ&utm_term=10006555&utm_id=NA-SkillsNetwork-Channel-SkillsNetworkCoursesIBMML321ENSkillsNetwork32585014-2022-01-01\" target=\"_blank\">\n",
        "    <img src=\"https://cf-courses-data.s3.us.cloud-object-storage.appdomain.cloud/assets/logos/SN_web_lightmode.png\" width=\"200\" alt=\"Skills Network Logo\"  />\n",
        "    </a>\n",
        "</p>\n"
      ]
    },
    {
      "cell_type": "markdown",
      "metadata": {
        "id": "BuselkuRrGyK"
      },
      "source": [
        "# **Clustering based Course Recommender System**\n"
      ]
    },
    {
      "cell_type": "markdown",
      "metadata": {
        "id": "dUO0rHgzrGyL"
      },
      "source": [
        "Estimated time needed: **90** minutes\n"
      ]
    },
    {
      "cell_type": "markdown",
      "metadata": {
        "id": "aasg7jM1rGyM"
      },
      "source": [
        "Previously, we have generated user profile vectors based on course ratings and genres.\n",
        "\n",
        "A user profile vector may look like a row vector in the following matrix, for example, we can see the Database column for user2 has a value 1 which means user2 is very interesting in courses related to the databases. With the user profile vectors generated, we can also easily compute the similarity among users based on their shared interests.\n"
      ]
    },
    {
      "cell_type": "markdown",
      "metadata": {
        "id": "AZnScYNUrGyM"
      },
      "source": [
        "![](https://cf-courses-data.s3.us.cloud-object-storage.appdomain.cloud/IBM-ML321EN-SkillsNetwork/labs/module\\_3/images/userprofiles.png)\n"
      ]
    },
    {
      "cell_type": "markdown",
      "metadata": {
        "id": "P3eR-daerGyM"
      },
      "source": [
        "Furthermore, we could perform clustering algorithms such as K-means or DBSCAN to group users with similar learning interests. For example, in the below user clusters, we have user clusters whom have learned courses related to machine learning, cloud computing, databases, and web development, etc.\n"
      ]
    },
    {
      "cell_type": "markdown",
      "metadata": {
        "id": "wN4dIWdmrGyN"
      },
      "source": [
        "![](https://cf-courses-data.s3.us.cloud-object-storage.appdomain.cloud/IBM-ML321EN-SkillsNetwork/labs/module\\_3/images/userprofiles_clustering.png)\n"
      ]
    },
    {
      "cell_type": "markdown",
      "metadata": {
        "id": "sb089xGWrGyO"
      },
      "source": [
        "For each user group, we can come up with a list of popular courses. For example, for the machine learning user cluster/learning group, we can count the most frequently enrolled courses, which are very likely to be the most popular and good machine learning courses because they are enrolled by many users who are interested in machine learning.\n",
        "\n",
        "If we know a user belongs to the machine learning group, we may recommend the most enrolled courses to them and it is very likely the user will be interested in them.\n"
      ]
    },
    {
      "cell_type": "markdown",
      "metadata": {
        "id": "IN3xfIOrrGyO"
      },
      "source": [
        "Next in this lab, you will be implementing some clustering-based recommender system algorithms.\n"
      ]
    },
    {
      "cell_type": "markdown",
      "metadata": {
        "id": "CsLa5yJHrGyO"
      },
      "source": [
        "## Objectives\n"
      ]
    },
    {
      "cell_type": "markdown",
      "metadata": {
        "id": "wGTY0cI2rGyP"
      },
      "source": [
        "After completing this lab you will be able to:\n"
      ]
    },
    {
      "cell_type": "markdown",
      "metadata": {
        "id": "NGcJpcGMrGyP"
      },
      "source": [
        "*   Perform k-means clustering on the original user profile feature vectors\n",
        "*   Apply PCA (Principle Component Analysis ) on user profile feature vectors to reduce dimensions\n",
        "*   Perform k-means clustering on the PCA transformed main components\n",
        "*   Generate course recommendations based on other group members' enrollment history\n"
      ]
    },
    {
      "cell_type": "markdown",
      "metadata": {
        "id": "bedOi_rNrGyP"
      },
      "source": [
        "***\n"
      ]
    },
    {
      "cell_type": "markdown",
      "metadata": {
        "id": "_Zr84MHNrGyP"
      },
      "source": [
        "## Prepare and setup lab environment\n"
      ]
    },
    {
      "cell_type": "markdown",
      "metadata": {
        "id": "BykGwQ89rGyQ"
      },
      "source": [
        "First install and import required libraries:\n"
      ]
    },
    {
      "cell_type": "code",
      "execution_count": 1,
      "metadata": {
        "id": "fR5RsK3qrGyQ"
      },
      "outputs": [],
      "source": [
        "import seaborn as sns\n",
        "import pandas as pd\n",
        "import numpy as np\n",
        "import matplotlib.pyplot as plt\n",
        "\n",
        "from sklearn.cluster import KMeans\n",
        "from sklearn.preprocessing import StandardScaler\n",
        "from sklearn.decomposition import PCA\n",
        "\n",
        "%matplotlib inline"
      ]
    },
    {
      "cell_type": "code",
      "execution_count": 2,
      "metadata": {
        "id": "IK5ImHscrGyR"
      },
      "outputs": [],
      "source": [
        "# also set a random state\n",
        "rs = 123"
      ]
    },
    {
      "cell_type": "markdown",
      "metadata": {
        "id": "l0QHZvLjrGyR"
      },
      "source": [
        "### Load the user profile dataset\n"
      ]
    },
    {
      "cell_type": "markdown",
      "metadata": {
        "id": "JxysFFXQrGyR"
      },
      "source": [
        "Let's first load the original user profile feature vectors:\n"
      ]
    },
    {
      "cell_type": "code",
      "execution_count": 3,
      "metadata": {
        "colab": {
          "base_uri": "https://localhost:8080/",
          "height": 0
        },
        "id": "OQ-16x85rGyR",
        "outputId": "ec4dec40-ede7-40de-b642-f2636091e473"
      },
      "outputs": [
        {
          "data": {
            "text/html": [
              "<div>\n",
              "<style scoped>\n",
              "    .dataframe tbody tr th:only-of-type {\n",
              "        vertical-align: middle;\n",
              "    }\n",
              "\n",
              "    .dataframe tbody tr th {\n",
              "        vertical-align: top;\n",
              "    }\n",
              "\n",
              "    .dataframe thead th {\n",
              "        text-align: right;\n",
              "    }\n",
              "</style>\n",
              "<table border=\"1\" class=\"dataframe\">\n",
              "  <thead>\n",
              "    <tr style=\"text-align: right;\">\n",
              "      <th></th>\n",
              "      <th>user</th>\n",
              "      <th>Database</th>\n",
              "      <th>Python</th>\n",
              "      <th>CloudComputing</th>\n",
              "      <th>DataAnalysis</th>\n",
              "      <th>Containers</th>\n",
              "      <th>MachineLearning</th>\n",
              "      <th>ComputerVision</th>\n",
              "      <th>DataScience</th>\n",
              "      <th>BigData</th>\n",
              "      <th>Chatbot</th>\n",
              "      <th>R</th>\n",
              "      <th>BackendDev</th>\n",
              "      <th>FrontendDev</th>\n",
              "      <th>Blockchain</th>\n",
              "    </tr>\n",
              "  </thead>\n",
              "  <tbody>\n",
              "    <tr>\n",
              "      <th>0</th>\n",
              "      <td>2</td>\n",
              "      <td>52.0</td>\n",
              "      <td>14.0</td>\n",
              "      <td>6.0</td>\n",
              "      <td>43.0</td>\n",
              "      <td>3.0</td>\n",
              "      <td>33.0</td>\n",
              "      <td>0.0</td>\n",
              "      <td>29.0</td>\n",
              "      <td>41.0</td>\n",
              "      <td>2.0</td>\n",
              "      <td>18.0</td>\n",
              "      <td>34.0</td>\n",
              "      <td>9.0</td>\n",
              "      <td>6.0</td>\n",
              "    </tr>\n",
              "    <tr>\n",
              "      <th>1</th>\n",
              "      <td>4</td>\n",
              "      <td>40.0</td>\n",
              "      <td>2.0</td>\n",
              "      <td>4.0</td>\n",
              "      <td>28.0</td>\n",
              "      <td>0.0</td>\n",
              "      <td>14.0</td>\n",
              "      <td>0.0</td>\n",
              "      <td>20.0</td>\n",
              "      <td>24.0</td>\n",
              "      <td>0.0</td>\n",
              "      <td>6.0</td>\n",
              "      <td>6.0</td>\n",
              "      <td>0.0</td>\n",
              "      <td>2.0</td>\n",
              "    </tr>\n",
              "    <tr>\n",
              "      <th>2</th>\n",
              "      <td>5</td>\n",
              "      <td>24.0</td>\n",
              "      <td>8.0</td>\n",
              "      <td>18.0</td>\n",
              "      <td>24.0</td>\n",
              "      <td>0.0</td>\n",
              "      <td>30.0</td>\n",
              "      <td>0.0</td>\n",
              "      <td>22.0</td>\n",
              "      <td>14.0</td>\n",
              "      <td>2.0</td>\n",
              "      <td>14.0</td>\n",
              "      <td>26.0</td>\n",
              "      <td>4.0</td>\n",
              "      <td>6.0</td>\n",
              "    </tr>\n",
              "    <tr>\n",
              "      <th>3</th>\n",
              "      <td>7</td>\n",
              "      <td>2.0</td>\n",
              "      <td>0.0</td>\n",
              "      <td>0.0</td>\n",
              "      <td>2.0</td>\n",
              "      <td>0.0</td>\n",
              "      <td>0.0</td>\n",
              "      <td>0.0</td>\n",
              "      <td>0.0</td>\n",
              "      <td>2.0</td>\n",
              "      <td>0.0</td>\n",
              "      <td>0.0</td>\n",
              "      <td>0.0</td>\n",
              "      <td>0.0</td>\n",
              "      <td>0.0</td>\n",
              "    </tr>\n",
              "    <tr>\n",
              "      <th>4</th>\n",
              "      <td>8</td>\n",
              "      <td>6.0</td>\n",
              "      <td>0.0</td>\n",
              "      <td>0.0</td>\n",
              "      <td>4.0</td>\n",
              "      <td>0.0</td>\n",
              "      <td>0.0</td>\n",
              "      <td>0.0</td>\n",
              "      <td>0.0</td>\n",
              "      <td>6.0</td>\n",
              "      <td>0.0</td>\n",
              "      <td>2.0</td>\n",
              "      <td>0.0</td>\n",
              "      <td>0.0</td>\n",
              "      <td>0.0</td>\n",
              "    </tr>\n",
              "  </tbody>\n",
              "</table>\n",
              "</div>"
            ],
            "text/plain": [
              "   user  Database  Python  CloudComputing  DataAnalysis  Containers  \\\n",
              "0     2      52.0    14.0             6.0          43.0         3.0   \n",
              "1     4      40.0     2.0             4.0          28.0         0.0   \n",
              "2     5      24.0     8.0            18.0          24.0         0.0   \n",
              "3     7       2.0     0.0             0.0           2.0         0.0   \n",
              "4     8       6.0     0.0             0.0           4.0         0.0   \n",
              "\n",
              "   MachineLearning  ComputerVision  DataScience  BigData  Chatbot     R  \\\n",
              "0             33.0             0.0         29.0     41.0      2.0  18.0   \n",
              "1             14.0             0.0         20.0     24.0      0.0   6.0   \n",
              "2             30.0             0.0         22.0     14.0      2.0  14.0   \n",
              "3              0.0             0.0          0.0      2.0      0.0   0.0   \n",
              "4              0.0             0.0          0.0      6.0      0.0   2.0   \n",
              "\n",
              "   BackendDev  FrontendDev  Blockchain  \n",
              "0        34.0          9.0         6.0  \n",
              "1         6.0          0.0         2.0  \n",
              "2        26.0          4.0         6.0  \n",
              "3         0.0          0.0         0.0  \n",
              "4         0.0          0.0         0.0  "
            ]
          },
          "execution_count": 3,
          "metadata": {},
          "output_type": "execute_result"
        }
      ],
      "source": [
        "user_profile_url = \"https://cf-courses-data.s3.us.cloud-object-storage.appdomain.cloud/IBM-ML321EN-SkillsNetwork/labs/datasets/user_profile.csv\"\n",
        "user_profile_df = pd.read_csv(user_profile_url)\n",
        "user_profile_df.head()"
      ]
    },
    {
      "cell_type": "code",
      "execution_count": 4,
      "metadata": {
        "colab": {
          "base_uri": "https://localhost:8080/"
        },
        "id": "Lvj1qFhNrGyS",
        "outputId": "b2042cd2-867b-44f8-ff9e-e91e99a0fcd1"
      },
      "outputs": [
        {
          "data": {
            "text/plain": [
              "(33901, 15)"
            ]
          },
          "execution_count": 4,
          "metadata": {},
          "output_type": "execute_result"
        }
      ],
      "source": [
        "user_profile_df.shape"
      ]
    },
    {
      "cell_type": "markdown",
      "metadata": {
        "id": "bQU6KxJfrGyT"
      },
      "source": [
        "we can then list the feature names, they are the user interested topics (course genres):\n"
      ]
    },
    {
      "cell_type": "code",
      "execution_count": 5,
      "metadata": {
        "colab": {
          "base_uri": "https://localhost:8080/"
        },
        "id": "8DX8vEh0rGyT",
        "outputId": "ef2e4c5e-6b3b-4c8b-aa3e-b95ff2761f26"
      },
      "outputs": [
        {
          "data": {
            "text/plain": [
              "['Database',\n",
              " 'Python',\n",
              " 'CloudComputing',\n",
              " 'DataAnalysis',\n",
              " 'Containers',\n",
              " 'MachineLearning',\n",
              " 'ComputerVision',\n",
              " 'DataScience',\n",
              " 'BigData',\n",
              " 'Chatbot',\n",
              " 'R',\n",
              " 'BackendDev',\n",
              " 'FrontendDev',\n",
              " 'Blockchain']"
            ]
          },
          "execution_count": 5,
          "metadata": {},
          "output_type": "execute_result"
        }
      ],
      "source": [
        "feature_names = list(user_profile_df.columns[1:])\n",
        "feature_names"
      ]
    },
    {
      "cell_type": "markdown",
      "metadata": {
        "id": "tmQdAC7ZrGyT"
      },
      "source": [
        "As we can see from the user profile dataset, we have about 33K unique users with interests in areas like `Database`, `Python`, `CloudComputing`, etc. Then, let's check the  summary statistics for each feature.\n"
      ]
    },
    {
      "cell_type": "code",
      "execution_count": 6,
      "metadata": {
        "colab": {
          "base_uri": "https://localhost:8080/",
          "height": 0
        },
        "id": "otPfUNljrGyU",
        "outputId": "4c3b2b2a-d6f6-4841-defc-5f2424deebf9"
      },
      "outputs": [
        {
          "data": {
            "text/html": [
              "<div>\n",
              "<style scoped>\n",
              "    .dataframe tbody tr th:only-of-type {\n",
              "        vertical-align: middle;\n",
              "    }\n",
              "\n",
              "    .dataframe tbody tr th {\n",
              "        vertical-align: top;\n",
              "    }\n",
              "\n",
              "    .dataframe thead th {\n",
              "        text-align: right;\n",
              "    }\n",
              "</style>\n",
              "<table border=\"1\" class=\"dataframe\">\n",
              "  <thead>\n",
              "    <tr style=\"text-align: right;\">\n",
              "      <th></th>\n",
              "      <th>user</th>\n",
              "      <th>Database</th>\n",
              "      <th>Python</th>\n",
              "      <th>CloudComputing</th>\n",
              "      <th>DataAnalysis</th>\n",
              "      <th>Containers</th>\n",
              "      <th>MachineLearning</th>\n",
              "      <th>ComputerVision</th>\n",
              "      <th>DataScience</th>\n",
              "      <th>BigData</th>\n",
              "      <th>Chatbot</th>\n",
              "      <th>R</th>\n",
              "      <th>BackendDev</th>\n",
              "      <th>FrontendDev</th>\n",
              "      <th>Blockchain</th>\n",
              "    </tr>\n",
              "  </thead>\n",
              "  <tbody>\n",
              "    <tr>\n",
              "      <th>count</th>\n",
              "      <td>3.390100e+04</td>\n",
              "      <td>33901.000000</td>\n",
              "      <td>33901.000000</td>\n",
              "      <td>33901.000000</td>\n",
              "      <td>33901.000000</td>\n",
              "      <td>33901.000000</td>\n",
              "      <td>33901.000000</td>\n",
              "      <td>33901.000000</td>\n",
              "      <td>33901.000000</td>\n",
              "      <td>33901.000000</td>\n",
              "      <td>33901.000000</td>\n",
              "      <td>33901.000000</td>\n",
              "      <td>33901.000000</td>\n",
              "      <td>33901.000000</td>\n",
              "      <td>33901.000000</td>\n",
              "    </tr>\n",
              "    <tr>\n",
              "      <th>mean</th>\n",
              "      <td>1.064064e+06</td>\n",
              "      <td>5.518569</td>\n",
              "      <td>3.493791</td>\n",
              "      <td>2.307100</td>\n",
              "      <td>3.624701</td>\n",
              "      <td>0.998938</td>\n",
              "      <td>3.048022</td>\n",
              "      <td>0.001770</td>\n",
              "      <td>5.087343</td>\n",
              "      <td>4.750450</td>\n",
              "      <td>0.462995</td>\n",
              "      <td>1.017433</td>\n",
              "      <td>2.269461</td>\n",
              "      <td>0.315802</td>\n",
              "      <td>0.986844</td>\n",
              "    </tr>\n",
              "    <tr>\n",
              "      <th>std</th>\n",
              "      <td>4.972578e+05</td>\n",
              "      <td>7.611941</td>\n",
              "      <td>4.227254</td>\n",
              "      <td>3.841858</td>\n",
              "      <td>4.760135</td>\n",
              "      <td>2.351764</td>\n",
              "      <td>4.624004</td>\n",
              "      <td>0.072846</td>\n",
              "      <td>5.230697</td>\n",
              "      <td>7.216228</td>\n",
              "      <td>1.055186</td>\n",
              "      <td>2.342532</td>\n",
              "      <td>4.310752</td>\n",
              "      <td>1.363462</td>\n",
              "      <td>1.950585</td>\n",
              "    </tr>\n",
              "    <tr>\n",
              "      <th>min</th>\n",
              "      <td>2.000000e+00</td>\n",
              "      <td>0.000000</td>\n",
              "      <td>0.000000</td>\n",
              "      <td>0.000000</td>\n",
              "      <td>0.000000</td>\n",
              "      <td>0.000000</td>\n",
              "      <td>0.000000</td>\n",
              "      <td>0.000000</td>\n",
              "      <td>0.000000</td>\n",
              "      <td>0.000000</td>\n",
              "      <td>0.000000</td>\n",
              "      <td>0.000000</td>\n",
              "      <td>0.000000</td>\n",
              "      <td>0.000000</td>\n",
              "      <td>0.000000</td>\n",
              "    </tr>\n",
              "    <tr>\n",
              "      <th>25%</th>\n",
              "      <td>6.813480e+05</td>\n",
              "      <td>0.000000</td>\n",
              "      <td>0.000000</td>\n",
              "      <td>0.000000</td>\n",
              "      <td>0.000000</td>\n",
              "      <td>0.000000</td>\n",
              "      <td>0.000000</td>\n",
              "      <td>0.000000</td>\n",
              "      <td>0.000000</td>\n",
              "      <td>0.000000</td>\n",
              "      <td>0.000000</td>\n",
              "      <td>0.000000</td>\n",
              "      <td>0.000000</td>\n",
              "      <td>0.000000</td>\n",
              "      <td>0.000000</td>\n",
              "    </tr>\n",
              "    <tr>\n",
              "      <th>50%</th>\n",
              "      <td>1.043907e+06</td>\n",
              "      <td>3.000000</td>\n",
              "      <td>3.000000</td>\n",
              "      <td>0.000000</td>\n",
              "      <td>3.000000</td>\n",
              "      <td>0.000000</td>\n",
              "      <td>0.000000</td>\n",
              "      <td>0.000000</td>\n",
              "      <td>3.000000</td>\n",
              "      <td>2.000000</td>\n",
              "      <td>0.000000</td>\n",
              "      <td>0.000000</td>\n",
              "      <td>0.000000</td>\n",
              "      <td>0.000000</td>\n",
              "      <td>0.000000</td>\n",
              "    </tr>\n",
              "    <tr>\n",
              "      <th>75%</th>\n",
              "      <td>1.451159e+06</td>\n",
              "      <td>9.000000</td>\n",
              "      <td>6.000000</td>\n",
              "      <td>3.000000</td>\n",
              "      <td>6.000000</td>\n",
              "      <td>0.000000</td>\n",
              "      <td>3.000000</td>\n",
              "      <td>0.000000</td>\n",
              "      <td>9.000000</td>\n",
              "      <td>6.000000</td>\n",
              "      <td>0.000000</td>\n",
              "      <td>0.000000</td>\n",
              "      <td>3.000000</td>\n",
              "      <td>0.000000</td>\n",
              "      <td>2.000000</td>\n",
              "    </tr>\n",
              "    <tr>\n",
              "      <th>max</th>\n",
              "      <td>2.103039e+06</td>\n",
              "      <td>63.000000</td>\n",
              "      <td>18.000000</td>\n",
              "      <td>38.000000</td>\n",
              "      <td>48.000000</td>\n",
              "      <td>15.000000</td>\n",
              "      <td>39.000000</td>\n",
              "      <td>3.000000</td>\n",
              "      <td>32.000000</td>\n",
              "      <td>54.000000</td>\n",
              "      <td>6.000000</td>\n",
              "      <td>18.000000</td>\n",
              "      <td>54.000000</td>\n",
              "      <td>15.000000</td>\n",
              "      <td>12.000000</td>\n",
              "    </tr>\n",
              "  </tbody>\n",
              "</table>\n",
              "</div>"
            ],
            "text/plain": [
              "               user      Database        Python  CloudComputing  DataAnalysis  \\\n",
              "count  3.390100e+04  33901.000000  33901.000000    33901.000000  33901.000000   \n",
              "mean   1.064064e+06      5.518569      3.493791        2.307100      3.624701   \n",
              "std    4.972578e+05      7.611941      4.227254        3.841858      4.760135   \n",
              "min    2.000000e+00      0.000000      0.000000        0.000000      0.000000   \n",
              "25%    6.813480e+05      0.000000      0.000000        0.000000      0.000000   \n",
              "50%    1.043907e+06      3.000000      3.000000        0.000000      3.000000   \n",
              "75%    1.451159e+06      9.000000      6.000000        3.000000      6.000000   \n",
              "max    2.103039e+06     63.000000     18.000000       38.000000     48.000000   \n",
              "\n",
              "         Containers  MachineLearning  ComputerVision   DataScience  \\\n",
              "count  33901.000000     33901.000000    33901.000000  33901.000000   \n",
              "mean       0.998938         3.048022        0.001770      5.087343   \n",
              "std        2.351764         4.624004        0.072846      5.230697   \n",
              "min        0.000000         0.000000        0.000000      0.000000   \n",
              "25%        0.000000         0.000000        0.000000      0.000000   \n",
              "50%        0.000000         0.000000        0.000000      3.000000   \n",
              "75%        0.000000         3.000000        0.000000      9.000000   \n",
              "max       15.000000        39.000000        3.000000     32.000000   \n",
              "\n",
              "            BigData       Chatbot             R    BackendDev   FrontendDev  \\\n",
              "count  33901.000000  33901.000000  33901.000000  33901.000000  33901.000000   \n",
              "mean       4.750450      0.462995      1.017433      2.269461      0.315802   \n",
              "std        7.216228      1.055186      2.342532      4.310752      1.363462   \n",
              "min        0.000000      0.000000      0.000000      0.000000      0.000000   \n",
              "25%        0.000000      0.000000      0.000000      0.000000      0.000000   \n",
              "50%        2.000000      0.000000      0.000000      0.000000      0.000000   \n",
              "75%        6.000000      0.000000      0.000000      3.000000      0.000000   \n",
              "max       54.000000      6.000000     18.000000     54.000000     15.000000   \n",
              "\n",
              "         Blockchain  \n",
              "count  33901.000000  \n",
              "mean       0.986844  \n",
              "std        1.950585  \n",
              "min        0.000000  \n",
              "25%        0.000000  \n",
              "50%        0.000000  \n",
              "75%        2.000000  \n",
              "max       12.000000  "
            ]
          },
          "execution_count": 6,
          "metadata": {},
          "output_type": "execute_result"
        }
      ],
      "source": [
        "user_profile_df.describe()"
      ]
    },
    {
      "cell_type": "markdown",
      "metadata": {
        "id": "1C7ihP33rGyU"
      },
      "source": [
        "The original user profile feature vector is not normalized, which may cause issues when we perform clustering and Principal component analysis (PCA), therefor we standardize the data.\n"
      ]
    },
    {
      "cell_type": "code",
      "execution_count": 7,
      "metadata": {
        "colab": {
          "base_uri": "https://localhost:8080/"
        },
        "id": "dc8slhw2rGyU",
        "outputId": "d17db51a-efd6-4cbc-a8b6-eff863bf8c0b"
      },
      "outputs": [
        {
          "name": "stdout",
          "output_type": "stream",
          "text": [
            "mean Database          -3.353495e-17\n",
            "Python            -5.700942e-17\n",
            "CloudComputing    -3.521170e-17\n",
            "DataAnalysis      -7.671120e-17\n",
            "Containers         3.353495e-18\n",
            "MachineLearning    3.688845e-17\n",
            "ComputerVision    -1.509073e-17\n",
            "DataScience       -1.676748e-17\n",
            "BigData            6.706990e-17\n",
            "Chatbot           -6.874665e-17\n",
            "R                  4.233788e-17\n",
            "BackendDev         1.383317e-17\n",
            "FrontendDev        5.051202e-17\n",
            "Blockchain        -5.281755e-17\n",
            "dtype: float64 and standard deviationDatabase           1.000015\n",
            "Python             1.000015\n",
            "CloudComputing     1.000015\n",
            "DataAnalysis       1.000015\n",
            "Containers         1.000015\n",
            "MachineLearning    1.000015\n",
            "ComputerVision     1.000015\n",
            "DataScience        1.000015\n",
            "BigData            1.000015\n",
            "Chatbot            1.000015\n",
            "R                  1.000015\n",
            "BackendDev         1.000015\n",
            "FrontendDev        1.000015\n",
            "Blockchain         1.000015\n",
            "dtype: float64 \n"
          ]
        }
      ],
      "source": [
        "# Use StandardScaler to make each feature with mean 0, standard deviation 1\n",
        "scaler = StandardScaler()\n",
        "user_profile_df[feature_names] = scaler.fit_transform(user_profile_df[feature_names])\n",
        "print(\"mean {} and standard deviation{} \".format(user_profile_df[feature_names].mean(),user_profile_df[feature_names].std()))"
      ]
    },
    {
      "cell_type": "code",
      "execution_count": 8,
      "metadata": {
        "colab": {
          "base_uri": "https://localhost:8080/",
          "height": 0
        },
        "id": "rRO0Z4terGyU",
        "outputId": "372026f8-2c9e-4ce6-f393-5791f4a5810a"
      },
      "outputs": [
        {
          "data": {
            "text/html": [
              "<div>\n",
              "<style scoped>\n",
              "    .dataframe tbody tr th:only-of-type {\n",
              "        vertical-align: middle;\n",
              "    }\n",
              "\n",
              "    .dataframe tbody tr th {\n",
              "        vertical-align: top;\n",
              "    }\n",
              "\n",
              "    .dataframe thead th {\n",
              "        text-align: right;\n",
              "    }\n",
              "</style>\n",
              "<table border=\"1\" class=\"dataframe\">\n",
              "  <thead>\n",
              "    <tr style=\"text-align: right;\">\n",
              "      <th></th>\n",
              "      <th>user</th>\n",
              "      <th>Database</th>\n",
              "      <th>Python</th>\n",
              "      <th>CloudComputing</th>\n",
              "      <th>DataAnalysis</th>\n",
              "      <th>Containers</th>\n",
              "      <th>MachineLearning</th>\n",
              "      <th>ComputerVision</th>\n",
              "      <th>DataScience</th>\n",
              "      <th>BigData</th>\n",
              "      <th>Chatbot</th>\n",
              "      <th>R</th>\n",
              "      <th>BackendDev</th>\n",
              "      <th>FrontendDev</th>\n",
              "      <th>Blockchain</th>\n",
              "    </tr>\n",
              "  </thead>\n",
              "  <tbody>\n",
              "    <tr>\n",
              "      <th>count</th>\n",
              "      <td>3.390100e+04</td>\n",
              "      <td>3.390100e+04</td>\n",
              "      <td>3.390100e+04</td>\n",
              "      <td>3.390100e+04</td>\n",
              "      <td>3.390100e+04</td>\n",
              "      <td>3.390100e+04</td>\n",
              "      <td>3.390100e+04</td>\n",
              "      <td>3.390100e+04</td>\n",
              "      <td>3.390100e+04</td>\n",
              "      <td>3.390100e+04</td>\n",
              "      <td>3.390100e+04</td>\n",
              "      <td>3.390100e+04</td>\n",
              "      <td>3.390100e+04</td>\n",
              "      <td>3.390100e+04</td>\n",
              "      <td>3.390100e+04</td>\n",
              "    </tr>\n",
              "    <tr>\n",
              "      <th>mean</th>\n",
              "      <td>1.064064e+06</td>\n",
              "      <td>-3.353495e-17</td>\n",
              "      <td>-5.700942e-17</td>\n",
              "      <td>-3.521170e-17</td>\n",
              "      <td>-7.671120e-17</td>\n",
              "      <td>3.353495e-18</td>\n",
              "      <td>3.688845e-17</td>\n",
              "      <td>-1.509073e-17</td>\n",
              "      <td>-1.676748e-17</td>\n",
              "      <td>6.706990e-17</td>\n",
              "      <td>-6.874665e-17</td>\n",
              "      <td>4.233788e-17</td>\n",
              "      <td>1.383317e-17</td>\n",
              "      <td>5.051202e-17</td>\n",
              "      <td>-5.281755e-17</td>\n",
              "    </tr>\n",
              "    <tr>\n",
              "      <th>std</th>\n",
              "      <td>4.972578e+05</td>\n",
              "      <td>1.000015e+00</td>\n",
              "      <td>1.000015e+00</td>\n",
              "      <td>1.000015e+00</td>\n",
              "      <td>1.000015e+00</td>\n",
              "      <td>1.000015e+00</td>\n",
              "      <td>1.000015e+00</td>\n",
              "      <td>1.000015e+00</td>\n",
              "      <td>1.000015e+00</td>\n",
              "      <td>1.000015e+00</td>\n",
              "      <td>1.000015e+00</td>\n",
              "      <td>1.000015e+00</td>\n",
              "      <td>1.000015e+00</td>\n",
              "      <td>1.000015e+00</td>\n",
              "      <td>1.000015e+00</td>\n",
              "    </tr>\n",
              "    <tr>\n",
              "      <th>min</th>\n",
              "      <td>2.000000e+00</td>\n",
              "      <td>-7.249991e-01</td>\n",
              "      <td>-8.265040e-01</td>\n",
              "      <td>-6.005256e-01</td>\n",
              "      <td>-7.614816e-01</td>\n",
              "      <td>-4.247674e-01</td>\n",
              "      <td>-6.591835e-01</td>\n",
              "      <td>-2.429612e-02</td>\n",
              "      <td>-9.726080e-01</td>\n",
              "      <td>-6.583107e-01</td>\n",
              "      <td>-4.387873e-01</td>\n",
              "      <td>-4.343370e-01</td>\n",
              "      <td>-5.264730e-01</td>\n",
              "      <td>-2.316212e-01</td>\n",
              "      <td>-5.059295e-01</td>\n",
              "    </tr>\n",
              "    <tr>\n",
              "      <th>25%</th>\n",
              "      <td>6.813480e+05</td>\n",
              "      <td>-7.249991e-01</td>\n",
              "      <td>-8.265040e-01</td>\n",
              "      <td>-6.005256e-01</td>\n",
              "      <td>-7.614816e-01</td>\n",
              "      <td>-4.247674e-01</td>\n",
              "      <td>-6.591835e-01</td>\n",
              "      <td>-2.429612e-02</td>\n",
              "      <td>-9.726080e-01</td>\n",
              "      <td>-6.583107e-01</td>\n",
              "      <td>-4.387873e-01</td>\n",
              "      <td>-4.343370e-01</td>\n",
              "      <td>-5.264730e-01</td>\n",
              "      <td>-2.316212e-01</td>\n",
              "      <td>-5.059295e-01</td>\n",
              "    </tr>\n",
              "    <tr>\n",
              "      <th>50%</th>\n",
              "      <td>1.043907e+06</td>\n",
              "      <td>-3.308757e-01</td>\n",
              "      <td>-1.168130e-01</td>\n",
              "      <td>-6.005256e-01</td>\n",
              "      <td>-1.312380e-01</td>\n",
              "      <td>-4.247674e-01</td>\n",
              "      <td>-6.591835e-01</td>\n",
              "      <td>-2.429612e-02</td>\n",
              "      <td>-3.990622e-01</td>\n",
              "      <td>-3.811535e-01</td>\n",
              "      <td>-4.387873e-01</td>\n",
              "      <td>-4.343370e-01</td>\n",
              "      <td>-5.264730e-01</td>\n",
              "      <td>-2.316212e-01</td>\n",
              "      <td>-5.059295e-01</td>\n",
              "    </tr>\n",
              "    <tr>\n",
              "      <th>75%</th>\n",
              "      <td>1.451159e+06</td>\n",
              "      <td>4.573712e-01</td>\n",
              "      <td>5.928781e-01</td>\n",
              "      <td>1.803581e-01</td>\n",
              "      <td>4.990056e-01</td>\n",
              "      <td>-4.247674e-01</td>\n",
              "      <td>-1.038556e-02</td>\n",
              "      <td>-2.429612e-02</td>\n",
              "      <td>7.480294e-01</td>\n",
              "      <td>1.731609e-01</td>\n",
              "      <td>-4.387873e-01</td>\n",
              "      <td>-4.343370e-01</td>\n",
              "      <td>1.694715e-01</td>\n",
              "      <td>-2.316212e-01</td>\n",
              "      <td>5.194189e-01</td>\n",
              "    </tr>\n",
              "    <tr>\n",
              "      <th>max</th>\n",
              "      <td>2.103039e+06</td>\n",
              "      <td>7.551593e+00</td>\n",
              "      <td>3.431642e+00</td>\n",
              "      <td>9.290667e+00</td>\n",
              "      <td>9.322416e+00</td>\n",
              "      <td>5.953517e+00</td>\n",
              "      <td>7.775190e+00</td>\n",
              "      <td>4.115884e+01</td>\n",
              "      <td>5.145214e+00</td>\n",
              "      <td>6.824934e+00</td>\n",
              "      <td>5.247500e+00</td>\n",
              "      <td>7.249771e+00</td>\n",
              "      <td>1.200053e+01</td>\n",
              "      <td>1.076995e+01</td>\n",
              "      <td>5.646161e+00</td>\n",
              "    </tr>\n",
              "  </tbody>\n",
              "</table>\n",
              "</div>"
            ],
            "text/plain": [
              "               user      Database        Python  CloudComputing  DataAnalysis  \\\n",
              "count  3.390100e+04  3.390100e+04  3.390100e+04    3.390100e+04  3.390100e+04   \n",
              "mean   1.064064e+06 -3.353495e-17 -5.700942e-17   -3.521170e-17 -7.671120e-17   \n",
              "std    4.972578e+05  1.000015e+00  1.000015e+00    1.000015e+00  1.000015e+00   \n",
              "min    2.000000e+00 -7.249991e-01 -8.265040e-01   -6.005256e-01 -7.614816e-01   \n",
              "25%    6.813480e+05 -7.249991e-01 -8.265040e-01   -6.005256e-01 -7.614816e-01   \n",
              "50%    1.043907e+06 -3.308757e-01 -1.168130e-01   -6.005256e-01 -1.312380e-01   \n",
              "75%    1.451159e+06  4.573712e-01  5.928781e-01    1.803581e-01  4.990056e-01   \n",
              "max    2.103039e+06  7.551593e+00  3.431642e+00    9.290667e+00  9.322416e+00   \n",
              "\n",
              "         Containers  MachineLearning  ComputerVision   DataScience  \\\n",
              "count  3.390100e+04     3.390100e+04    3.390100e+04  3.390100e+04   \n",
              "mean   3.353495e-18     3.688845e-17   -1.509073e-17 -1.676748e-17   \n",
              "std    1.000015e+00     1.000015e+00    1.000015e+00  1.000015e+00   \n",
              "min   -4.247674e-01    -6.591835e-01   -2.429612e-02 -9.726080e-01   \n",
              "25%   -4.247674e-01    -6.591835e-01   -2.429612e-02 -9.726080e-01   \n",
              "50%   -4.247674e-01    -6.591835e-01   -2.429612e-02 -3.990622e-01   \n",
              "75%   -4.247674e-01    -1.038556e-02   -2.429612e-02  7.480294e-01   \n",
              "max    5.953517e+00     7.775190e+00    4.115884e+01  5.145214e+00   \n",
              "\n",
              "            BigData       Chatbot             R    BackendDev   FrontendDev  \\\n",
              "count  3.390100e+04  3.390100e+04  3.390100e+04  3.390100e+04  3.390100e+04   \n",
              "mean   6.706990e-17 -6.874665e-17  4.233788e-17  1.383317e-17  5.051202e-17   \n",
              "std    1.000015e+00  1.000015e+00  1.000015e+00  1.000015e+00  1.000015e+00   \n",
              "min   -6.583107e-01 -4.387873e-01 -4.343370e-01 -5.264730e-01 -2.316212e-01   \n",
              "25%   -6.583107e-01 -4.387873e-01 -4.343370e-01 -5.264730e-01 -2.316212e-01   \n",
              "50%   -3.811535e-01 -4.387873e-01 -4.343370e-01 -5.264730e-01 -2.316212e-01   \n",
              "75%    1.731609e-01 -4.387873e-01 -4.343370e-01  1.694715e-01 -2.316212e-01   \n",
              "max    6.824934e+00  5.247500e+00  7.249771e+00  1.200053e+01  1.076995e+01   \n",
              "\n",
              "         Blockchain  \n",
              "count  3.390100e+04  \n",
              "mean  -5.281755e-17  \n",
              "std    1.000015e+00  \n",
              "min   -5.059295e-01  \n",
              "25%   -5.059295e-01  \n",
              "50%   -5.059295e-01  \n",
              "75%    5.194189e-01  \n",
              "max    5.646161e+00  "
            ]
          },
          "execution_count": 8,
          "metadata": {},
          "output_type": "execute_result"
        }
      ],
      "source": [
        "user_profile_df.describe()"
      ]
    },
    {
      "cell_type": "markdown",
      "metadata": {
        "id": "SyuU2xTErGyU"
      },
      "source": [
        "The normalized user profile features are:\n"
      ]
    },
    {
      "cell_type": "code",
      "execution_count": 9,
      "metadata": {
        "colab": {
          "base_uri": "https://localhost:8080/",
          "height": 0
        },
        "id": "LrhGSMsbrGyV",
        "outputId": "19fd96a3-c15e-4692-9e36-0f783769650b"
      },
      "outputs": [
        {
          "data": {
            "text/html": [
              "<div>\n",
              "<style scoped>\n",
              "    .dataframe tbody tr th:only-of-type {\n",
              "        vertical-align: middle;\n",
              "    }\n",
              "\n",
              "    .dataframe tbody tr th {\n",
              "        vertical-align: top;\n",
              "    }\n",
              "\n",
              "    .dataframe thead th {\n",
              "        text-align: right;\n",
              "    }\n",
              "</style>\n",
              "<table border=\"1\" class=\"dataframe\">\n",
              "  <thead>\n",
              "    <tr style=\"text-align: right;\">\n",
              "      <th></th>\n",
              "      <th>Database</th>\n",
              "      <th>Python</th>\n",
              "      <th>CloudComputing</th>\n",
              "      <th>DataAnalysis</th>\n",
              "      <th>Containers</th>\n",
              "      <th>MachineLearning</th>\n",
              "      <th>ComputerVision</th>\n",
              "      <th>DataScience</th>\n",
              "      <th>BigData</th>\n",
              "      <th>Chatbot</th>\n",
              "      <th>R</th>\n",
              "      <th>BackendDev</th>\n",
              "      <th>FrontendDev</th>\n",
              "      <th>Blockchain</th>\n",
              "    </tr>\n",
              "  </thead>\n",
              "  <tbody>\n",
              "    <tr>\n",
              "      <th>0</th>\n",
              "      <td>6.106474</td>\n",
              "      <td>2.485388</td>\n",
              "      <td>0.961242</td>\n",
              "      <td>8.272010</td>\n",
              "      <td>0.850889</td>\n",
              "      <td>6.477594</td>\n",
              "      <td>-0.024296</td>\n",
              "      <td>4.571668</td>\n",
              "      <td>5.023412</td>\n",
              "      <td>1.456642</td>\n",
              "      <td>7.249771</td>\n",
              "      <td>7.360899</td>\n",
              "      <td>6.369323</td>\n",
              "      <td>2.570116</td>\n",
              "    </tr>\n",
              "    <tr>\n",
              "      <th>1</th>\n",
              "      <td>4.529980</td>\n",
              "      <td>-0.353377</td>\n",
              "      <td>0.440653</td>\n",
              "      <td>5.120792</td>\n",
              "      <td>-0.424767</td>\n",
              "      <td>2.368540</td>\n",
              "      <td>-0.024296</td>\n",
              "      <td>2.851031</td>\n",
              "      <td>2.667576</td>\n",
              "      <td>-0.438787</td>\n",
              "      <td>2.127032</td>\n",
              "      <td>0.865416</td>\n",
              "      <td>-0.231621</td>\n",
              "      <td>0.519419</td>\n",
              "    </tr>\n",
              "    <tr>\n",
              "      <th>2</th>\n",
              "      <td>2.427988</td>\n",
              "      <td>1.066006</td>\n",
              "      <td>4.084776</td>\n",
              "      <td>4.280467</td>\n",
              "      <td>-0.424767</td>\n",
              "      <td>5.828796</td>\n",
              "      <td>-0.024296</td>\n",
              "      <td>3.233395</td>\n",
              "      <td>1.281790</td>\n",
              "      <td>1.456642</td>\n",
              "      <td>5.542191</td>\n",
              "      <td>5.505047</td>\n",
              "      <td>2.702132</td>\n",
              "      <td>2.570116</td>\n",
              "    </tr>\n",
              "    <tr>\n",
              "      <th>3</th>\n",
              "      <td>-0.462250</td>\n",
              "      <td>-0.826504</td>\n",
              "      <td>-0.600526</td>\n",
              "      <td>-0.341319</td>\n",
              "      <td>-0.424767</td>\n",
              "      <td>-0.659184</td>\n",
              "      <td>-0.024296</td>\n",
              "      <td>-0.972608</td>\n",
              "      <td>-0.381153</td>\n",
              "      <td>-0.438787</td>\n",
              "      <td>-0.434337</td>\n",
              "      <td>-0.526473</td>\n",
              "      <td>-0.231621</td>\n",
              "      <td>-0.505930</td>\n",
              "    </tr>\n",
              "    <tr>\n",
              "      <th>4</th>\n",
              "      <td>0.063248</td>\n",
              "      <td>-0.826504</td>\n",
              "      <td>-0.600526</td>\n",
              "      <td>0.078843</td>\n",
              "      <td>-0.424767</td>\n",
              "      <td>-0.659184</td>\n",
              "      <td>-0.024296</td>\n",
              "      <td>-0.972608</td>\n",
              "      <td>0.173161</td>\n",
              "      <td>-0.438787</td>\n",
              "      <td>0.419453</td>\n",
              "      <td>-0.526473</td>\n",
              "      <td>-0.231621</td>\n",
              "      <td>-0.505930</td>\n",
              "    </tr>\n",
              "    <tr>\n",
              "      <th>...</th>\n",
              "      <td>...</td>\n",
              "      <td>...</td>\n",
              "      <td>...</td>\n",
              "      <td>...</td>\n",
              "      <td>...</td>\n",
              "      <td>...</td>\n",
              "      <td>...</td>\n",
              "      <td>...</td>\n",
              "      <td>...</td>\n",
              "      <td>...</td>\n",
              "      <td>...</td>\n",
              "      <td>...</td>\n",
              "      <td>...</td>\n",
              "      <td>...</td>\n",
              "    </tr>\n",
              "    <tr>\n",
              "      <th>33896</th>\n",
              "      <td>-0.330876</td>\n",
              "      <td>-0.116813</td>\n",
              "      <td>0.180358</td>\n",
              "      <td>0.499006</td>\n",
              "      <td>-0.424767</td>\n",
              "      <td>-0.659184</td>\n",
              "      <td>-0.024296</td>\n",
              "      <td>0.174484</td>\n",
              "      <td>-0.658311</td>\n",
              "      <td>-0.438787</td>\n",
              "      <td>2.127032</td>\n",
              "      <td>0.865416</td>\n",
              "      <td>-0.231621</td>\n",
              "      <td>1.032093</td>\n",
              "    </tr>\n",
              "    <tr>\n",
              "      <th>33897</th>\n",
              "      <td>-0.724999</td>\n",
              "      <td>-0.826504</td>\n",
              "      <td>-0.079936</td>\n",
              "      <td>-0.761482</td>\n",
              "      <td>-0.424767</td>\n",
              "      <td>-0.659184</td>\n",
              "      <td>-0.024296</td>\n",
              "      <td>-0.972608</td>\n",
              "      <td>-0.658311</td>\n",
              "      <td>-0.438787</td>\n",
              "      <td>-0.434337</td>\n",
              "      <td>-0.526473</td>\n",
              "      <td>-0.231621</td>\n",
              "      <td>-0.505930</td>\n",
              "    </tr>\n",
              "    <tr>\n",
              "      <th>33898</th>\n",
              "      <td>-0.330876</td>\n",
              "      <td>0.592878</td>\n",
              "      <td>0.961242</td>\n",
              "      <td>-0.761482</td>\n",
              "      <td>-0.424767</td>\n",
              "      <td>2.368540</td>\n",
              "      <td>-0.024296</td>\n",
              "      <td>0.748029</td>\n",
              "      <td>-0.658311</td>\n",
              "      <td>-0.438787</td>\n",
              "      <td>0.846348</td>\n",
              "      <td>-0.526473</td>\n",
              "      <td>-0.231621</td>\n",
              "      <td>-0.505930</td>\n",
              "    </tr>\n",
              "    <tr>\n",
              "      <th>33899</th>\n",
              "      <td>-0.724999</td>\n",
              "      <td>-0.826504</td>\n",
              "      <td>-0.600526</td>\n",
              "      <td>-0.761482</td>\n",
              "      <td>-0.424767</td>\n",
              "      <td>-0.226652</td>\n",
              "      <td>-0.024296</td>\n",
              "      <td>-0.972608</td>\n",
              "      <td>-0.658311</td>\n",
              "      <td>-0.438787</td>\n",
              "      <td>-0.434337</td>\n",
              "      <td>-0.526473</td>\n",
              "      <td>-0.231621</td>\n",
              "      <td>-0.505930</td>\n",
              "    </tr>\n",
              "    <tr>\n",
              "      <th>33900</th>\n",
              "      <td>-0.724999</td>\n",
              "      <td>-0.826504</td>\n",
              "      <td>-0.600526</td>\n",
              "      <td>-0.761482</td>\n",
              "      <td>-0.424767</td>\n",
              "      <td>-0.226652</td>\n",
              "      <td>-0.024296</td>\n",
              "      <td>-0.972608</td>\n",
              "      <td>-0.658311</td>\n",
              "      <td>-0.438787</td>\n",
              "      <td>-0.434337</td>\n",
              "      <td>-0.526473</td>\n",
              "      <td>-0.231621</td>\n",
              "      <td>-0.505930</td>\n",
              "    </tr>\n",
              "  </tbody>\n",
              "</table>\n",
              "<p>33901 rows × 14 columns</p>\n",
              "</div>"
            ],
            "text/plain": [
              "       Database    Python  CloudComputing  DataAnalysis  Containers  \\\n",
              "0      6.106474  2.485388        0.961242      8.272010    0.850889   \n",
              "1      4.529980 -0.353377        0.440653      5.120792   -0.424767   \n",
              "2      2.427988  1.066006        4.084776      4.280467   -0.424767   \n",
              "3     -0.462250 -0.826504       -0.600526     -0.341319   -0.424767   \n",
              "4      0.063248 -0.826504       -0.600526      0.078843   -0.424767   \n",
              "...         ...       ...             ...           ...         ...   \n",
              "33896 -0.330876 -0.116813        0.180358      0.499006   -0.424767   \n",
              "33897 -0.724999 -0.826504       -0.079936     -0.761482   -0.424767   \n",
              "33898 -0.330876  0.592878        0.961242     -0.761482   -0.424767   \n",
              "33899 -0.724999 -0.826504       -0.600526     -0.761482   -0.424767   \n",
              "33900 -0.724999 -0.826504       -0.600526     -0.761482   -0.424767   \n",
              "\n",
              "       MachineLearning  ComputerVision  DataScience   BigData   Chatbot  \\\n",
              "0             6.477594       -0.024296     4.571668  5.023412  1.456642   \n",
              "1             2.368540       -0.024296     2.851031  2.667576 -0.438787   \n",
              "2             5.828796       -0.024296     3.233395  1.281790  1.456642   \n",
              "3            -0.659184       -0.024296    -0.972608 -0.381153 -0.438787   \n",
              "4            -0.659184       -0.024296    -0.972608  0.173161 -0.438787   \n",
              "...                ...             ...          ...       ...       ...   \n",
              "33896        -0.659184       -0.024296     0.174484 -0.658311 -0.438787   \n",
              "33897        -0.659184       -0.024296    -0.972608 -0.658311 -0.438787   \n",
              "33898         2.368540       -0.024296     0.748029 -0.658311 -0.438787   \n",
              "33899        -0.226652       -0.024296    -0.972608 -0.658311 -0.438787   \n",
              "33900        -0.226652       -0.024296    -0.972608 -0.658311 -0.438787   \n",
              "\n",
              "              R  BackendDev  FrontendDev  Blockchain  \n",
              "0      7.249771    7.360899     6.369323    2.570116  \n",
              "1      2.127032    0.865416    -0.231621    0.519419  \n",
              "2      5.542191    5.505047     2.702132    2.570116  \n",
              "3     -0.434337   -0.526473    -0.231621   -0.505930  \n",
              "4      0.419453   -0.526473    -0.231621   -0.505930  \n",
              "...         ...         ...          ...         ...  \n",
              "33896  2.127032    0.865416    -0.231621    1.032093  \n",
              "33897 -0.434337   -0.526473    -0.231621   -0.505930  \n",
              "33898  0.846348   -0.526473    -0.231621   -0.505930  \n",
              "33899 -0.434337   -0.526473    -0.231621   -0.505930  \n",
              "33900 -0.434337   -0.526473    -0.231621   -0.505930  \n",
              "\n",
              "[33901 rows x 14 columns]"
            ]
          },
          "execution_count": 9,
          "metadata": {},
          "output_type": "execute_result"
        }
      ],
      "source": [
        "features = user_profile_df.loc[:, user_profile_df.columns != 'user']\n",
        "features"
      ]
    },
    {
      "cell_type": "markdown",
      "metadata": {
        "id": "4SVa5T0DrGyV"
      },
      "source": [
        "we can also save the user ids for later recommendation tasks:\n"
      ]
    },
    {
      "cell_type": "code",
      "execution_count": 10,
      "metadata": {
        "colab": {
          "base_uri": "https://localhost:8080/",
          "height": 0
        },
        "id": "-WaRFXEbrGyV",
        "outputId": "8d34a4a5-67bf-4c1d-8d64-5ad7247c2987"
      },
      "outputs": [
        {
          "data": {
            "text/html": [
              "<div>\n",
              "<style scoped>\n",
              "    .dataframe tbody tr th:only-of-type {\n",
              "        vertical-align: middle;\n",
              "    }\n",
              "\n",
              "    .dataframe tbody tr th {\n",
              "        vertical-align: top;\n",
              "    }\n",
              "\n",
              "    .dataframe thead th {\n",
              "        text-align: right;\n",
              "    }\n",
              "</style>\n",
              "<table border=\"1\" class=\"dataframe\">\n",
              "  <thead>\n",
              "    <tr style=\"text-align: right;\">\n",
              "      <th></th>\n",
              "      <th>user</th>\n",
              "    </tr>\n",
              "  </thead>\n",
              "  <tbody>\n",
              "    <tr>\n",
              "      <th>0</th>\n",
              "      <td>2</td>\n",
              "    </tr>\n",
              "    <tr>\n",
              "      <th>1</th>\n",
              "      <td>4</td>\n",
              "    </tr>\n",
              "    <tr>\n",
              "      <th>2</th>\n",
              "      <td>5</td>\n",
              "    </tr>\n",
              "    <tr>\n",
              "      <th>3</th>\n",
              "      <td>7</td>\n",
              "    </tr>\n",
              "    <tr>\n",
              "      <th>4</th>\n",
              "      <td>8</td>\n",
              "    </tr>\n",
              "    <tr>\n",
              "      <th>...</th>\n",
              "      <td>...</td>\n",
              "    </tr>\n",
              "    <tr>\n",
              "      <th>33896</th>\n",
              "      <td>2102054</td>\n",
              "    </tr>\n",
              "    <tr>\n",
              "      <th>33897</th>\n",
              "      <td>2102356</td>\n",
              "    </tr>\n",
              "    <tr>\n",
              "      <th>33898</th>\n",
              "      <td>2102680</td>\n",
              "    </tr>\n",
              "    <tr>\n",
              "      <th>33899</th>\n",
              "      <td>2102983</td>\n",
              "    </tr>\n",
              "    <tr>\n",
              "      <th>33900</th>\n",
              "      <td>2103039</td>\n",
              "    </tr>\n",
              "  </tbody>\n",
              "</table>\n",
              "<p>33901 rows × 1 columns</p>\n",
              "</div>"
            ],
            "text/plain": [
              "          user\n",
              "0            2\n",
              "1            4\n",
              "2            5\n",
              "3            7\n",
              "4            8\n",
              "...        ...\n",
              "33896  2102054\n",
              "33897  2102356\n",
              "33898  2102680\n",
              "33899  2102983\n",
              "33900  2103039\n",
              "\n",
              "[33901 rows x 1 columns]"
            ]
          },
          "execution_count": 10,
          "metadata": {},
          "output_type": "execute_result"
        }
      ],
      "source": [
        "user_ids = user_profile_df.loc[:, user_profile_df.columns == 'user']\n",
        "user_ids"
      ]
    },
    {
      "cell_type": "markdown",
      "metadata": {
        "id": "sU5xvuPxrGyV"
      },
      "source": [
        "### TASK: Perform K-means clustering algorithm on the user profile feature vectors\n"
      ]
    },
    {
      "cell_type": "markdown",
      "metadata": {
        "id": "g52iuBybrGyV"
      },
      "source": [
        "With the user profile dataset ready, you need to use the `KMeans` class provided by scikit-learn library to perform clustering on the user profile feature vectors.\n"
      ]
    },
    {
      "cell_type": "markdown",
      "metadata": {
        "id": "AVXqpUrzrGyW"
      },
      "source": [
        "For `KMeans` algorithm, one important hyperparameter is the number of clusters `n_cluster`, and a good way to find the optimized `n_cluster` is using to grid search a list of candidates and find the one with the best or optimized clustering evaluation metrics such as minimal `sum of squared distance`:\n"
      ]
    },
    {
      "cell_type": "markdown",
      "metadata": {
        "id": "fb0VQ9pwrGyW"
      },
      "source": [
        "*TODO: grid search the optimized n_cluster for KMeans() model*\n"
      ]
    },
    {
      "cell_type": "code",
      "execution_count": 11,
      "metadata": {
        "id": "ms-7E94FrGyW"
      },
      "outputs": [],
      "source": [
        "# WRITE YOUR CODE HERE\n",
        "\n",
        "# Find an optimized number of neighors k from a candidate list such as list_k = list(range(1, 30))\n",
        "SSE = []\n",
        "for i in range(1,30):\n",
        "    kmeans = KMeans(n_clusters = i, init='k-means++') # iterate from range (1, 20)\n",
        "    kmeans.fit(features)\n",
        "    SSE.append(kmeans.inertia_)\n",
        "\n"
      ]
    },
    {
      "cell_type": "code",
      "execution_count": 12,
      "metadata": {
        "colab": {
          "base_uri": "https://localhost:8080/",
          "height": 407
        },
        "id": "keRRbIi7rGyW",
        "outputId": "7c192e1d-3118-4b09-b1d4-86417d8d371a"
      },
      "outputs": [
        {
          "data": {
            "text/plain": [
              "Text(0, 0.5, 'Sum of Squared Distance')"
            ]
          },
          "execution_count": 12,
          "metadata": {},
          "output_type": "execute_result"
        },
        {
          "data": {
            "image/png": "[encoded data removed]",
            "text/plain": [
              "<Figure size 1200x600 with 1 Axes>"
            ]
          },
          "metadata": {},
          "output_type": "display_data"
        }
      ],
      "source": [
        "# converting the results into a dataframe and plotting them\n",
        "frame = pd.DataFrame({'Cluster':range(1,30,1), 'SSE':SSE})\n",
        "plt.figure(figsize=(12,6))\n",
        "plt.plot(frame['Cluster'], frame['SSE'], marker=\"o\",color='blue')\n",
        "plt.xlabel('Number of clusters')\n",
        "plt.ylabel('Sum of Squared Distance')"
      ]
    },
    {
      "cell_type": "markdown",
      "metadata": {
        "id": "22iHWR7DrGyX"
      },
      "source": [
        "If you plot the grid search process, you may get a elbow plot like the following:\n"
      ]
    },
    {
      "cell_type": "markdown",
      "metadata": {
        "id": "2IiJa4p8rGyX"
      },
      "source": [
        "![](https://cf-courses-data.s3.us.cloud-object-storage.appdomain.cloud/IBM-ML321EN-SkillsNetwork/labs/module\\_3/images/clusters_elbow.png)\n"
      ]
    },
    {
      "cell_type": "markdown",
      "metadata": {
        "id": "p3dwsiEerGyX"
      },
      "source": [
        "From the elbow plot, you should visualy identify the point where the metric starting to be flatten, which indicates the optimized number of clusters.\n"
      ]
    },
    {
      "cell_type": "markdown",
      "metadata": {
        "id": "PCjl0N_srGyX"
      },
      "source": [
        "Once you have identified the best number of clusters, you can apply `KMeans()` again to generate cluster label for all users.\n"
      ]
    },
    {
      "cell_type": "code",
      "execution_count": 13,
      "metadata": {
        "id": "bkQSvo2-rGyX"
      },
      "outputs": [],
      "source": [
        "cluster_labels = [None] * len(user_ids)"
      ]
    },
    {
      "cell_type": "markdown",
      "metadata": {
        "id": "wKJnhpVOrGyX"
      },
      "source": [
        "*TODO: Apply KMeans() on the features with optimized n_cluster parameter after model fitting, you can find output cluster labels in `model.labels_` attribute*\n"
      ]
    },
    {
      "cell_type": "code",
      "execution_count": 14,
      "metadata": {
        "id": "iX1AqDv8rGyY"
      },
      "outputs": [],
      "source": [
        "## WRITE YOUR CODE HERE\n",
        "model = KMeans(n_clusters=20,init='k-means++')\n",
        "model.fit(features)\n",
        "cluster_labels = model.labels_\n"
      ]
    },
    {
      "cell_type": "markdown",
      "metadata": {
        "id": "P703GCUmrGyY"
      },
      "source": [
        "The cluster labels you generated is a list of integers indicating cluster indices. You may use the following utility method to combine the cluster labels and user ids to a dataframe, so that you know which cluster a user belongs:\n"
      ]
    },
    {
      "cell_type": "code",
      "execution_count": 15,
      "metadata": {
        "colab": {
          "base_uri": "https://localhost:8080/",
          "height": 250
        },
        "id": "yQA9-3nzrGyY",
        "outputId": "3821850d-2b68-4567-f4bf-483fa978ba74"
      },
      "outputs": [
        {
          "data": {
            "text/html": [
              "<div>\n",
              "<style scoped>\n",
              "    .dataframe tbody tr th:only-of-type {\n",
              "        vertical-align: middle;\n",
              "    }\n",
              "\n",
              "    .dataframe tbody tr th {\n",
              "        vertical-align: top;\n",
              "    }\n",
              "\n",
              "    .dataframe thead th {\n",
              "        text-align: right;\n",
              "    }\n",
              "</style>\n",
              "<table border=\"1\" class=\"dataframe\">\n",
              "  <thead>\n",
              "    <tr style=\"text-align: right;\">\n",
              "      <th></th>\n",
              "      <th>user</th>\n",
              "      <th>Database</th>\n",
              "      <th>Python</th>\n",
              "      <th>CloudComputing</th>\n",
              "      <th>DataAnalysis</th>\n",
              "      <th>Containers</th>\n",
              "      <th>MachineLearning</th>\n",
              "      <th>ComputerVision</th>\n",
              "      <th>DataScience</th>\n",
              "      <th>BigData</th>\n",
              "      <th>Chatbot</th>\n",
              "      <th>R</th>\n",
              "      <th>BackendDev</th>\n",
              "      <th>FrontendDev</th>\n",
              "      <th>Blockchain</th>\n",
              "      <th>Cluster</th>\n",
              "    </tr>\n",
              "  </thead>\n",
              "  <tbody>\n",
              "    <tr>\n",
              "      <th>0</th>\n",
              "      <td>2</td>\n",
              "      <td>6.106474</td>\n",
              "      <td>2.485388</td>\n",
              "      <td>0.961242</td>\n",
              "      <td>8.272010</td>\n",
              "      <td>0.850889</td>\n",
              "      <td>6.477594</td>\n",
              "      <td>-0.024296</td>\n",
              "      <td>4.571668</td>\n",
              "      <td>5.023412</td>\n",
              "      <td>1.456642</td>\n",
              "      <td>7.249771</td>\n",
              "      <td>7.360899</td>\n",
              "      <td>6.369323</td>\n",
              "      <td>2.570116</td>\n",
              "      <td>12</td>\n",
              "    </tr>\n",
              "    <tr>\n",
              "      <th>1</th>\n",
              "      <td>4</td>\n",
              "      <td>4.529980</td>\n",
              "      <td>-0.353377</td>\n",
              "      <td>0.440653</td>\n",
              "      <td>5.120792</td>\n",
              "      <td>-0.424767</td>\n",
              "      <td>2.368540</td>\n",
              "      <td>-0.024296</td>\n",
              "      <td>2.851031</td>\n",
              "      <td>2.667576</td>\n",
              "      <td>-0.438787</td>\n",
              "      <td>2.127032</td>\n",
              "      <td>0.865416</td>\n",
              "      <td>-0.231621</td>\n",
              "      <td>0.519419</td>\n",
              "      <td>12</td>\n",
              "    </tr>\n",
              "    <tr>\n",
              "      <th>2</th>\n",
              "      <td>5</td>\n",
              "      <td>2.427988</td>\n",
              "      <td>1.066006</td>\n",
              "      <td>4.084776</td>\n",
              "      <td>4.280467</td>\n",
              "      <td>-0.424767</td>\n",
              "      <td>5.828796</td>\n",
              "      <td>-0.024296</td>\n",
              "      <td>3.233395</td>\n",
              "      <td>1.281790</td>\n",
              "      <td>1.456642</td>\n",
              "      <td>5.542191</td>\n",
              "      <td>5.505047</td>\n",
              "      <td>2.702132</td>\n",
              "      <td>2.570116</td>\n",
              "      <td>15</td>\n",
              "    </tr>\n",
              "    <tr>\n",
              "      <th>3</th>\n",
              "      <td>7</td>\n",
              "      <td>-0.462250</td>\n",
              "      <td>-0.826504</td>\n",
              "      <td>-0.600526</td>\n",
              "      <td>-0.341319</td>\n",
              "      <td>-0.424767</td>\n",
              "      <td>-0.659184</td>\n",
              "      <td>-0.024296</td>\n",
              "      <td>-0.972608</td>\n",
              "      <td>-0.381153</td>\n",
              "      <td>-0.438787</td>\n",
              "      <td>-0.434337</td>\n",
              "      <td>-0.526473</td>\n",
              "      <td>-0.231621</td>\n",
              "      <td>-0.505930</td>\n",
              "      <td>7</td>\n",
              "    </tr>\n",
              "    <tr>\n",
              "      <th>4</th>\n",
              "      <td>8</td>\n",
              "      <td>0.063248</td>\n",
              "      <td>-0.826504</td>\n",
              "      <td>-0.600526</td>\n",
              "      <td>0.078843</td>\n",
              "      <td>-0.424767</td>\n",
              "      <td>-0.659184</td>\n",
              "      <td>-0.024296</td>\n",
              "      <td>-0.972608</td>\n",
              "      <td>0.173161</td>\n",
              "      <td>-0.438787</td>\n",
              "      <td>0.419453</td>\n",
              "      <td>-0.526473</td>\n",
              "      <td>-0.231621</td>\n",
              "      <td>-0.505930</td>\n",
              "      <td>7</td>\n",
              "    </tr>\n",
              "  </tbody>\n",
              "</table>\n",
              "</div>"
            ],
            "text/plain": [
              "   user  Database    Python  CloudComputing  DataAnalysis  Containers  \\\n",
              "0     2  6.106474  2.485388        0.961242      8.272010    0.850889   \n",
              "1     4  4.529980 -0.353377        0.440653      5.120792   -0.424767   \n",
              "2     5  2.427988  1.066006        4.084776      4.280467   -0.424767   \n",
              "3     7 -0.462250 -0.826504       -0.600526     -0.341319   -0.424767   \n",
              "4     8  0.063248 -0.826504       -0.600526      0.078843   -0.424767   \n",
              "\n",
              "   MachineLearning  ComputerVision  DataScience   BigData   Chatbot         R  \\\n",
              "0         6.477594       -0.024296     4.571668  5.023412  1.456642  7.249771   \n",
              "1         2.368540       -0.024296     2.851031  2.667576 -0.438787  2.127032   \n",
              "2         5.828796       -0.024296     3.233395  1.281790  1.456642  5.542191   \n",
              "3        -0.659184       -0.024296    -0.972608 -0.381153 -0.438787 -0.434337   \n",
              "4        -0.659184       -0.024296    -0.972608  0.173161 -0.438787  0.419453   \n",
              "\n",
              "   BackendDev  FrontendDev  Blockchain  Cluster  \n",
              "0    7.360899     6.369323    2.570116       12  \n",
              "1    0.865416    -0.231621    0.519419       12  \n",
              "2    5.505047     2.702132    2.570116       15  \n",
              "3   -0.526473    -0.231621   -0.505930        7  \n",
              "4   -0.526473    -0.231621   -0.505930        7  "
            ]
          },
          "execution_count": 15,
          "metadata": {},
          "output_type": "execute_result"
        }
      ],
      "source": [
        "user_profile_df['Cluster'] = cluster_labels\n",
        "user_profile_df.head()"
      ]
    },
    {
      "cell_type": "code",
      "execution_count": 16,
      "metadata": {
        "colab": {
          "base_uri": "https://localhost:8080/",
          "height": 206
        },
        "id": "Mu1Ux_4lrGyY",
        "outputId": "68569ab4-96dc-45b4-d5c9-1ed61f447f67"
      },
      "outputs": [
        {
          "data": {
            "text/html": [
              "<div>\n",
              "<style scoped>\n",
              "    .dataframe tbody tr th:only-of-type {\n",
              "        vertical-align: middle;\n",
              "    }\n",
              "\n",
              "    .dataframe tbody tr th {\n",
              "        vertical-align: top;\n",
              "    }\n",
              "\n",
              "    .dataframe thead th {\n",
              "        text-align: right;\n",
              "    }\n",
              "</style>\n",
              "<table border=\"1\" class=\"dataframe\">\n",
              "  <thead>\n",
              "    <tr style=\"text-align: right;\">\n",
              "      <th></th>\n",
              "      <th>user</th>\n",
              "      <th>Cluster</th>\n",
              "    </tr>\n",
              "  </thead>\n",
              "  <tbody>\n",
              "    <tr>\n",
              "      <th>0</th>\n",
              "      <td>2</td>\n",
              "      <td>12</td>\n",
              "    </tr>\n",
              "    <tr>\n",
              "      <th>1</th>\n",
              "      <td>4</td>\n",
              "      <td>12</td>\n",
              "    </tr>\n",
              "    <tr>\n",
              "      <th>2</th>\n",
              "      <td>5</td>\n",
              "      <td>15</td>\n",
              "    </tr>\n",
              "    <tr>\n",
              "      <th>3</th>\n",
              "      <td>7</td>\n",
              "      <td>7</td>\n",
              "    </tr>\n",
              "    <tr>\n",
              "      <th>4</th>\n",
              "      <td>8</td>\n",
              "      <td>7</td>\n",
              "    </tr>\n",
              "  </tbody>\n",
              "</table>\n",
              "</div>"
            ],
            "text/plain": [
              "   user  Cluster\n",
              "0     2       12\n",
              "1     4       12\n",
              "2     5       15\n",
              "3     7        7\n",
              "4     8        7"
            ]
          },
          "execution_count": 16,
          "metadata": {},
          "output_type": "execute_result"
        }
      ],
      "source": [
        "cluster_df = user_profile_df[['user','Cluster']]\n",
        "cluster_df.head()"
      ]
    },
    {
      "cell_type": "markdown",
      "metadata": {
        "id": "39bwR9QzrGyY"
      },
      "source": [
        "Your clustering results may look like the following screenshot:\n"
      ]
    },
    {
      "cell_type": "markdown",
      "metadata": {
        "id": "Jir-9ipIrGyZ"
      },
      "source": [
        "![](https://cf-courses-data.s3.us.cloud-object-storage.appdomain.cloud/IBM-ML321EN-SkillsNetwork/labs/module\\_3/images/cluster_labels.png)\n"
      ]
    },
    {
      "cell_type": "code",
      "execution_count": 17,
      "metadata": {
        "id": "8HfLtmmUrGyZ"
      },
      "outputs": [],
      "source": [
        "user_profile_df.drop(columns='Cluster',axis=1,inplace=True)"
      ]
    },
    {
      "cell_type": "markdown",
      "metadata": {
        "id": "wuHeIwzBrGyZ"
      },
      "source": [
        "Now, each user finds its own cluster or we can say we have created many clusters of learning communities. Learners within each community share very similar learning interests.\n"
      ]
    },
    {
      "cell_type": "markdown",
      "metadata": {
        "id": "ZrlcKXNZrGyZ"
      },
      "source": [
        "### TASK: Apply PCA on user profile feature vectors to reduce dimensions\n"
      ]
    },
    {
      "cell_type": "markdown",
      "metadata": {
        "id": "T3JHwuDPrGyZ"
      },
      "source": [
        "In the previous step, we applied `KMeans` on the original user profile feature vectors which have 14 original features (the course genres).\n"
      ]
    },
    {
      "cell_type": "code",
      "execution_count": 18,
      "metadata": {
        "id": "KWXWB7-brGya"
      },
      "outputs": [],
      "source": [
        "features = user_profile_df.loc[:, user_profile_df.columns != 'user']\n",
        "user_ids = user_profile_df.loc[:, user_profile_df.columns == 'user']\n",
        "feature_names = list(user_profile_df.columns[1:])"
      ]
    },
    {
      "cell_type": "code",
      "execution_count": 19,
      "metadata": {
        "colab": {
          "base_uri": "https://localhost:8080/"
        },
        "id": "VhvGZqPTrGya",
        "outputId": "c6e79db5-b692-452f-a5b9-9ce5e6e293a7"
      },
      "outputs": [
        {
          "name": "stdout",
          "output_type": "stream",
          "text": [
            "There are 14 features for each user profile.\n"
          ]
        }
      ],
      "source": [
        "print(f\"There are {len(feature_names)} features for each user profile.\")"
      ]
    },
    {
      "cell_type": "markdown",
      "metadata": {
        "id": "Ab8nymiRrGya"
      },
      "source": [
        "If we plot a covariance matrix of the user profile feature vectors with 14 features, we can observe that some features are actually correlated:\n"
      ]
    },
    {
      "cell_type": "code",
      "execution_count": 20,
      "metadata": {
        "colab": {
          "base_uri": "https://localhost:8080/",
          "height": 624
        },
        "id": "dD6CK0YwrGya",
        "outputId": "b3d484a0-f6ce-45d4-f16f-4bb81c7255a4"
      },
      "outputs": [
        {
          "data": {
            "image/png": "[encoded data removed]",
            "text/plain": [
              "<Figure size 1100x900 with 2 Axes>"
            ]
          },
          "metadata": {},
          "output_type": "display_data"
        }
      ],
      "source": [
        "sns.set_theme(style=\"white\")\n",
        "\n",
        "# Compute the correlation matrix\n",
        "corr = features.cov()\n",
        "\n",
        "# Generate a mask for the upper triangle\n",
        "mask = np.triu(np.ones_like(corr, dtype=bool))\n",
        "\n",
        "# Set up the matplotlib figure\n",
        "f, ax = plt.subplots(figsize=(11, 9))\n",
        "\n",
        "# Generate a custom diverging colormap\n",
        "cmap = sns.diverging_palette(230, 20, as_cmap=True)\n",
        "\n",
        "# Draw the heatmap with the mask and correct aspect ratio\n",
        "sns.heatmap(corr, mask=mask, cmap=cmap, vmax=.3, center=0, annot=True,\n",
        "            square=True, linewidths=.5, cbar_kws={\"shrink\": .5})\n",
        "\n",
        "\n",
        "plt.show()"
      ]
    },
    {
      "cell_type": "markdown",
      "metadata": {
        "id": "WzkSZ5cFrGya"
      },
      "source": [
        "For example, the feature `MachineLearning` and the feature `DataScience` are correlated. Such covariances among features may indicate that we can apply PCA to find its main components (eigenvectors with max eigenvalues on the covariance matrix).\n",
        "\n",
        "If we only keep the independent main components, then we can reduce the dimensions of our user profile feature vectors.\n"
      ]
    },
    {
      "cell_type": "markdown",
      "metadata": {
        "id": "2-Y30mIZrGyb"
      },
      "source": [
        "Now let's apply the `PCA()` provided by  `scikit-learn` to find the main components in user profile feature vectors and see if we can reduce its dimensions by only keeping the main components.\n"
      ]
    },
    {
      "cell_type": "markdown",
      "metadata": {
        "id": "D9YG9TP5rGyb"
      },
      "source": [
        "Note that when calling the  `PCA()` class, there is also an import argument called `n_components` which indicates how many components you want to keep in the PCA result. One way to find an optimized `n_components` is to do a grid search on a list of argument candidates (such as `range(1, 15)`) and calculate the ratio of the accumulated variance for each candidate.\n",
        "\n",
        "If the accumulated variances ratio of a candidate `n_components` is larger than a threshold, e.g., 90%, then we can say the transformed `n_components` could explain about 90% of variances of the original data variance and can be considered as an optimized components size.\n"
      ]
    },
    {
      "cell_type": "markdown",
      "metadata": {
        "id": "B12myYlwrGyb"
      },
      "source": [
        "*TODO: Find the optimized `n_components` for PCA*\n"
      ]
    },
    {
      "cell_type": "code",
      "execution_count": 21,
      "metadata": {
        "id": "rcOj4_Q3rGyb"
      },
      "outputs": [],
      "source": [
        "# WRITE YOUR CODE HERE\n",
        "\n",
        "# - For a list of candidate `n_components` arguments such as 1 to 14, find out the minimal `n` that can explain accumulated 90% variances of previous data\n",
        "# - In the fitted PCA() model, you can find explained_variance_ratio_ and use the sum() function to add them to get the accumulated variance ratio\n",
        "AVR = []    \n",
        "for i in range(1,15):\n",
        "    pca = PCA(n_components=i)\n",
        "    pca.fit(features)\n",
        "    AVR.append(pca.explained_variance_ratio_.sum())"
      ]
    },
    {
      "cell_type": "code",
      "execution_count": 22,
      "metadata": {
        "colab": {
          "base_uri": "https://localhost:8080/"
        },
        "id": "kFtZa2AUrGyb",
        "outputId": "7e15f463-14e4-4f3f-eabd-91e0940cb171"
      },
      "outputs": [
        {
          "data": {
            "text/plain": [
              "[0.2875684338769969,\n",
              " 0.4630925644815195,\n",
              " 0.5761339643675618,\n",
              " 0.6487465627832342,\n",
              " 0.719487876299722,\n",
              " 0.7882103410314045,\n",
              " 0.8429558465572835,\n",
              " 0.8944445500368904,\n",
              " 0.9272695591307677,\n",
              " 0.9544658170614709,\n",
              " 0.9733572103164776,\n",
              " 0.9870310843021104,\n",
              " 0.997916316661769,\n",
              " 0.9999999999999999]"
            ]
          },
          "execution_count": 22,
          "metadata": {},
          "output_type": "execute_result"
        }
      ],
      "source": [
        "AVR"
      ]
    },
    {
      "cell_type": "code",
      "execution_count": 23,
      "metadata": {
        "colab": {
          "base_uri": "https://localhost:8080/",
          "height": 413
        },
        "id": "IextLkDarGyc",
        "outputId": "ac9e181b-eb01-4986-e554-a3d97eb13acf"
      },
      "outputs": [
        {
          "data": {
            "text/plain": [
              "Text(0, 0.5, 'AVR')"
            ]
          },
          "execution_count": 23,
          "metadata": {},
          "output_type": "execute_result"
        },
        {
          "data": {
            "image/png": "[encoded data removed]",
            "text/plain": [
              "<Figure size 1200x600 with 1 Axes>"
            ]
          },
          "metadata": {},
          "output_type": "display_data"
        }
      ],
      "source": [
        "# converting the results into a dataframe and plotting them\n",
        "frame = pd.DataFrame({'Component':range(1,15), 'AVR':AVR})\n",
        "plt.figure(figsize=(12,6))\n",
        "plt.bar(frame['Component'], frame['AVR'],color='blue')\n",
        "plt.axhline(y = 0.9, color = 'r', linestyle = '-')\n",
        "plt.xlabel('Number of components')\n",
        "plt.ylabel('AVR')"
      ]
    },
    {
      "cell_type": "markdown",
      "metadata": {
        "id": "lswpbS3trGyc"
      },
      "source": [
        "If you visualize your hyperparameter searching process, you may get a trend line like the following:\n"
      ]
    },
    {
      "cell_type": "markdown",
      "metadata": {
        "id": "KmR21mvWrGyc"
      },
      "source": [
        "![](https://cf-courses-data.s3.us.cloud-object-storage.appdomain.cloud/IBM-ML321EN-SkillsNetwork/labs/module\\_3/images/pca.png)\n"
      ]
    },
    {
      "cell_type": "markdown",
      "metadata": {
        "id": "AwusqBOirGyc"
      },
      "source": [
        "Once you found the optimized `n_component` argument value, you can apply PCA on the user profile feature vectors and reduce the  14 features into  `n_component` features.\n"
      ]
    },
    {
      "cell_type": "markdown",
      "metadata": {
        "id": "e_8ECArrrGyc"
      },
      "source": [
        "*TODO: Perform PCA to transform original user profile features*\n"
      ]
    },
    {
      "cell_type": "code",
      "execution_count": 24,
      "metadata": {
        "colab": {
          "base_uri": "https://localhost:8080/"
        },
        "id": "-iDwujIRrGyd",
        "outputId": "7181be97-c2fc-4696-807e-6a0329addf14"
      },
      "outputs": [
        {
          "data": {
            "text/plain": [
              "array([[17.77249439,  0.20068141,  1.73060927, ...,  0.681042  ,\n",
              "         2.31261304,  0.86827151],\n",
              "       [ 7.14519863, -2.84748121,  2.3586356 , ...,  0.54976933,\n",
              "         0.46903346,  0.03340487],\n",
              "       [11.36326985,  1.8736192 , -1.52207738, ...,  1.67758234,\n",
              "         2.9376687 ,  2.09763858],\n",
              "       ...,\n",
              "       [ 0.62594328, -0.54716673, -1.69282423, ..., -0.05509971,\n",
              "         0.58209105,  1.70319253],\n",
              "       [-2.03683187, -0.15353383,  0.16285226, ...,  0.07249638,\n",
              "         0.11374975,  0.62289958],\n",
              "       [-2.03683187, -0.15353383,  0.16285226, ...,  0.07249638,\n",
              "         0.11374975,  0.62289958]])"
            ]
          },
          "execution_count": 24,
          "metadata": {},
          "output_type": "execute_result"
        }
      ],
      "source": [
        "# WRITE YOUR CODE HERE\n",
        "\n",
        "# - For a list of candidate `n_components` arguments such as 1 to 14, find out the minimal `n` that can explain accumulated 90% variances of previous data\n",
        "# - In the fitted PCA() model, you can find explained_variance_ratio_ and use the sum() function to add them to get the accumulated variance ratio\n",
        "# - Merge the user ids and transformed features into a new dataframe\n",
        "pca = PCA(n_components=9)\n",
        "pca.fit(features)\n",
        "pca_df = pca.transform(features)\n",
        "pca_df"
      ]
    },
    {
      "cell_type": "code",
      "execution_count": 25,
      "metadata": {
        "colab": {
          "base_uri": "https://localhost:8080/",
          "height": 206
        },
        "id": "ICV33SugrGyd",
        "outputId": "c8745a78-084b-4e9f-ea67-fb98f5951f79"
      },
      "outputs": [
        {
          "data": {
            "text/html": [
              "<div>\n",
              "<style scoped>\n",
              "    .dataframe tbody tr th:only-of-type {\n",
              "        vertical-align: middle;\n",
              "    }\n",
              "\n",
              "    .dataframe tbody tr th {\n",
              "        vertical-align: top;\n",
              "    }\n",
              "\n",
              "    .dataframe thead th {\n",
              "        text-align: right;\n",
              "    }\n",
              "</style>\n",
              "<table border=\"1\" class=\"dataframe\">\n",
              "  <thead>\n",
              "    <tr style=\"text-align: right;\">\n",
              "      <th></th>\n",
              "      <th>user</th>\n",
              "      <th>PC1</th>\n",
              "      <th>PC2</th>\n",
              "      <th>PC3</th>\n",
              "      <th>PC4</th>\n",
              "      <th>PC5</th>\n",
              "      <th>PC6</th>\n",
              "      <th>PC7</th>\n",
              "      <th>PC8</th>\n",
              "      <th>PC9</th>\n",
              "    </tr>\n",
              "  </thead>\n",
              "  <tbody>\n",
              "    <tr>\n",
              "      <th>0</th>\n",
              "      <td>2</td>\n",
              "      <td>17.772494</td>\n",
              "      <td>0.200681</td>\n",
              "      <td>1.730609</td>\n",
              "      <td>2.567359</td>\n",
              "      <td>-3.825814</td>\n",
              "      <td>2.707154</td>\n",
              "      <td>0.681042</td>\n",
              "      <td>2.312613</td>\n",
              "      <td>0.868272</td>\n",
              "    </tr>\n",
              "    <tr>\n",
              "      <th>1</th>\n",
              "      <td>4</td>\n",
              "      <td>7.145199</td>\n",
              "      <td>-2.847481</td>\n",
              "      <td>2.358636</td>\n",
              "      <td>-0.576654</td>\n",
              "      <td>0.398803</td>\n",
              "      <td>-0.134533</td>\n",
              "      <td>0.549769</td>\n",
              "      <td>0.469033</td>\n",
              "      <td>0.033405</td>\n",
              "    </tr>\n",
              "    <tr>\n",
              "      <th>2</th>\n",
              "      <td>5</td>\n",
              "      <td>11.363270</td>\n",
              "      <td>1.873619</td>\n",
              "      <td>-1.522077</td>\n",
              "      <td>1.076144</td>\n",
              "      <td>-1.711688</td>\n",
              "      <td>0.883212</td>\n",
              "      <td>1.677582</td>\n",
              "      <td>2.937669</td>\n",
              "      <td>2.097639</td>\n",
              "    </tr>\n",
              "    <tr>\n",
              "      <th>3</th>\n",
              "      <td>7</td>\n",
              "      <td>-1.834033</td>\n",
              "      <td>-0.277462</td>\n",
              "      <td>0.564905</td>\n",
              "      <td>0.053470</td>\n",
              "      <td>-0.064440</td>\n",
              "      <td>0.165757</td>\n",
              "      <td>0.030956</td>\n",
              "      <td>0.039519</td>\n",
              "      <td>0.210887</td>\n",
              "    </tr>\n",
              "    <tr>\n",
              "      <th>4</th>\n",
              "      <td>8</td>\n",
              "      <td>-1.049125</td>\n",
              "      <td>-0.684767</td>\n",
              "      <td>1.072765</td>\n",
              "      <td>0.006371</td>\n",
              "      <td>-0.005695</td>\n",
              "      <td>0.118686</td>\n",
              "      <td>0.118559</td>\n",
              "      <td>0.559292</td>\n",
              "      <td>0.186379</td>\n",
              "    </tr>\n",
              "  </tbody>\n",
              "</table>\n",
              "</div>"
            ],
            "text/plain": [
              "   user        PC1       PC2       PC3       PC4       PC5       PC6  \\\n",
              "0     2  17.772494  0.200681  1.730609  2.567359 -3.825814  2.707154   \n",
              "1     4   7.145199 -2.847481  2.358636 -0.576654  0.398803 -0.134533   \n",
              "2     5  11.363270  1.873619 -1.522077  1.076144 -1.711688  0.883212   \n",
              "3     7  -1.834033 -0.277462  0.564905  0.053470 -0.064440  0.165757   \n",
              "4     8  -1.049125 -0.684767  1.072765  0.006371 -0.005695  0.118686   \n",
              "\n",
              "        PC7       PC8       PC9  \n",
              "0  0.681042  2.312613  0.868272  \n",
              "1  0.549769  0.469033  0.033405  \n",
              "2  1.677582  2.937669  2.097639  \n",
              "3  0.030956  0.039519  0.210887  \n",
              "4  0.118559  0.559292  0.186379  "
            ]
          },
          "execution_count": 25,
          "metadata": {},
          "output_type": "execute_result"
        }
      ],
      "source": [
        "pca_data = pd.DataFrame(pca_df,columns=['PC' + str(x) for x in range (1,10)])\n",
        "pca_data['user'] = user_ids\n",
        "pca_data = pca_data[['user','PC1','PC2','PC3','PC4','PC5','PC6','PC7','PC8','PC9']]\n",
        "pca_data.head()"
      ]
    },
    {
      "cell_type": "markdown",
      "metadata": {
        "id": "X_Z6V80irGyd"
      },
      "source": [
        "Your PCA transformed dataframe may look like the following:\n"
      ]
    },
    {
      "cell_type": "markdown",
      "metadata": {
        "id": "hjcWrNmbrGyd"
      },
      "source": [
        "![](https://cf-courses-data.s3.us.cloud-object-storage.appdomain.cloud/IBM-ML321EN-SkillsNetwork/labs/module\\_3/images/pca_res.png)\n"
      ]
    },
    {
      "cell_type": "markdown",
      "metadata": {
        "id": "CFCJAVq4rGyd"
      },
      "source": [
        "### TASK: Perform k-means clustering on the PCA transformed feature vectors\n"
      ]
    },
    {
      "cell_type": "markdown",
      "metadata": {
        "id": "dMTiIKfXrGye"
      },
      "source": [
        "Now, you have the PCA  components of the original profile vectors. You can perform k-means on them again:\n"
      ]
    },
    {
      "cell_type": "markdown",
      "metadata": {
        "id": "QRGB1adirGye"
      },
      "source": [
        "*TODO: Perform K-means on the PCA transformed features*\n"
      ]
    },
    {
      "cell_type": "code",
      "execution_count": 26,
      "metadata": {
        "id": "XmyaCTksrGye"
      },
      "outputs": [],
      "source": [
        "## WRITE YOUR CODE HERE\n",
        "\n",
        "## - Apply KMeans() on the PCA features\n",
        "## - Obtain the cluster label lists from model.labels_ attribute\n",
        "## - Assign each user a cluster label by combining user ids and cluster labels\n",
        "model = KMeans(n_clusters=20,init='k-means++')\n",
        "model.fit(pca_df)\n",
        "cluster_labels = model.labels_\n",
        "\n"
      ]
    },
    {
      "cell_type": "code",
      "execution_count": 27,
      "metadata": {
        "colab": {
          "base_uri": "https://localhost:8080/",
          "height": 0
        },
        "id": "bHLKupVgrGye",
        "outputId": "ca92b495-a47c-4a32-8876-69d75014ca36"
      },
      "outputs": [
        {
          "data": {
            "text/html": [
              "<div>\n",
              "<style scoped>\n",
              "    .dataframe tbody tr th:only-of-type {\n",
              "        vertical-align: middle;\n",
              "    }\n",
              "\n",
              "    .dataframe tbody tr th {\n",
              "        vertical-align: top;\n",
              "    }\n",
              "\n",
              "    .dataframe thead th {\n",
              "        text-align: right;\n",
              "    }\n",
              "</style>\n",
              "<table border=\"1\" class=\"dataframe\">\n",
              "  <thead>\n",
              "    <tr style=\"text-align: right;\">\n",
              "      <th></th>\n",
              "      <th>user</th>\n",
              "      <th>cluster</th>\n",
              "    </tr>\n",
              "  </thead>\n",
              "  <tbody>\n",
              "    <tr>\n",
              "      <th>0</th>\n",
              "      <td>2</td>\n",
              "      <td>6</td>\n",
              "    </tr>\n",
              "    <tr>\n",
              "      <th>1</th>\n",
              "      <td>4</td>\n",
              "      <td>18</td>\n",
              "    </tr>\n",
              "    <tr>\n",
              "      <th>2</th>\n",
              "      <td>5</td>\n",
              "      <td>6</td>\n",
              "    </tr>\n",
              "    <tr>\n",
              "      <th>3</th>\n",
              "      <td>7</td>\n",
              "      <td>7</td>\n",
              "    </tr>\n",
              "    <tr>\n",
              "      <th>4</th>\n",
              "      <td>8</td>\n",
              "      <td>7</td>\n",
              "    </tr>\n",
              "    <tr>\n",
              "      <th>...</th>\n",
              "      <td>...</td>\n",
              "      <td>...</td>\n",
              "    </tr>\n",
              "    <tr>\n",
              "      <th>33896</th>\n",
              "      <td>2102054</td>\n",
              "      <td>16</td>\n",
              "    </tr>\n",
              "    <tr>\n",
              "      <th>33897</th>\n",
              "      <td>2102356</td>\n",
              "      <td>7</td>\n",
              "    </tr>\n",
              "    <tr>\n",
              "      <th>33898</th>\n",
              "      <td>2102680</td>\n",
              "      <td>0</td>\n",
              "    </tr>\n",
              "    <tr>\n",
              "      <th>33899</th>\n",
              "      <td>2102983</td>\n",
              "      <td>7</td>\n",
              "    </tr>\n",
              "    <tr>\n",
              "      <th>33900</th>\n",
              "      <td>2103039</td>\n",
              "      <td>7</td>\n",
              "    </tr>\n",
              "  </tbody>\n",
              "</table>\n",
              "<p>33901 rows × 2 columns</p>\n",
              "</div>"
            ],
            "text/plain": [
              "          user  cluster\n",
              "0            2        6\n",
              "1            4       18\n",
              "2            5        6\n",
              "3            7        7\n",
              "4            8        7\n",
              "...        ...      ...\n",
              "33896  2102054       16\n",
              "33897  2102356        7\n",
              "33898  2102680        0\n",
              "33899  2102983        7\n",
              "33900  2103039        7\n",
              "\n",
              "[33901 rows x 2 columns]"
            ]
          },
          "execution_count": 27,
          "metadata": {},
          "output_type": "execute_result"
        }
      ],
      "source": [
        "pca_cluster_df = pd.DataFrame()\n",
        "pca_cluster_df['user'] = user_ids\n",
        "pca_cluster_df['cluster'] = cluster_labels\n",
        "pca_cluster_df\n"
      ]
    },
    {
      "cell_type": "markdown",
      "metadata": {
        "id": "Kqq2zcSnrGye"
      },
      "source": [
        "Your clustering results should have the same format as the k-means on the original dataset:\n"
      ]
    },
    {
      "cell_type": "markdown",
      "metadata": {
        "id": "L8verfnsrGye"
      },
      "source": [
        "![](https://cf-courses-data.s3.us.cloud-object-storage.appdomain.cloud/IBM-ML321EN-SkillsNetwork/labs/module\\_3/images/cluster_labels.png)\n"
      ]
    },
    {
      "cell_type": "markdown",
      "metadata": {
        "id": "2SV4BwrjrGyf"
      },
      "source": [
        "Great, now all users find their learning interest groups, either based on their original or the PCA transformed user profile features.\n"
      ]
    },
    {
      "cell_type": "markdown",
      "metadata": {
        "id": "qLIcRFSNrGyf"
      },
      "source": [
        "When a user is in a group or a community, it is very likely that the user will be interested in the courses enrolled by other members within the same group.\n"
      ]
    },
    {
      "cell_type": "markdown",
      "metadata": {
        "id": "X-BL4rY-rGyf"
      },
      "source": [
        "### TASK: Generate course recommendations based on the popular courses in the same cluster\n"
      ]
    },
    {
      "cell_type": "markdown",
      "metadata": {
        "id": "5XhbTwoRrGyf"
      },
      "source": [
        "The Intuition of clustering-based course recommendation is very simple and can be illustrated via the following example:\n"
      ]
    },
    {
      "cell_type": "markdown",
      "metadata": {
        "id": "HWDjKvVtrGyf"
      },
      "source": [
        "Suppose a user has joined a machine learning group (via clustering algorithm). In the group, he/she finds that the top-3 courses enrolled by all other group members are `Machine Learning for Everyone`, `Machine Learning with Python`, `Machine Learning with Scikit-learn`. Since the user has already completed the `Machine Learning for Everyone` earlier, he/she decides to trust the group members' choices and enroll in other two unselected courses `Machine Learning with Python` and `Machine Learning with Scikit-learn`.\n"
      ]
    },
    {
      "cell_type": "markdown",
      "metadata": {
        "id": "uQChd2KcrGyf"
      },
      "source": [
        "In summary, the clustering-based recommender system first groups all users based on their profiles, and maintains a popular courses list for each group.\n",
        "\n",
        "For any group member who needs course recommendations, the algorithm recommends the unselected courses from the popular course lists.\n"
      ]
    },
    {
      "cell_type": "markdown",
      "metadata": {
        "id": "izXSSUzvrGyg"
      },
      "source": [
        "Next, suppose we have a set of test users, and we want to recommend new courses to them using a clustering-based recommender system:\n"
      ]
    },
    {
      "cell_type": "code",
      "execution_count": 28,
      "metadata": {
        "colab": {
          "base_uri": "https://localhost:8080/",
          "height": 206
        },
        "id": "FVpxpKXwrGyg",
        "outputId": "2b783b20-5c24-4332-cb6b-ac7b038a22f6"
      },
      "outputs": [
        {
          "data": {
            "text/html": [
              "<div>\n",
              "<style scoped>\n",
              "    .dataframe tbody tr th:only-of-type {\n",
              "        vertical-align: middle;\n",
              "    }\n",
              "\n",
              "    .dataframe tbody tr th {\n",
              "        vertical-align: top;\n",
              "    }\n",
              "\n",
              "    .dataframe thead th {\n",
              "        text-align: right;\n",
              "    }\n",
              "</style>\n",
              "<table border=\"1\" class=\"dataframe\">\n",
              "  <thead>\n",
              "    <tr style=\"text-align: right;\">\n",
              "      <th></th>\n",
              "      <th>user</th>\n",
              "      <th>item</th>\n",
              "    </tr>\n",
              "  </thead>\n",
              "  <tbody>\n",
              "    <tr>\n",
              "      <th>0</th>\n",
              "      <td>1502801</td>\n",
              "      <td>RP0105EN</td>\n",
              "    </tr>\n",
              "    <tr>\n",
              "      <th>1</th>\n",
              "      <td>1609720</td>\n",
              "      <td>CNSC02EN</td>\n",
              "    </tr>\n",
              "    <tr>\n",
              "      <th>2</th>\n",
              "      <td>1347188</td>\n",
              "      <td>CO0301EN</td>\n",
              "    </tr>\n",
              "    <tr>\n",
              "      <th>3</th>\n",
              "      <td>755067</td>\n",
              "      <td>ML0103EN</td>\n",
              "    </tr>\n",
              "    <tr>\n",
              "      <th>4</th>\n",
              "      <td>538595</td>\n",
              "      <td>BD0115EN</td>\n",
              "    </tr>\n",
              "  </tbody>\n",
              "</table>\n",
              "</div>"
            ],
            "text/plain": [
              "      user      item\n",
              "0  1502801  RP0105EN\n",
              "1  1609720  CNSC02EN\n",
              "2  1347188  CO0301EN\n",
              "3   755067  ML0103EN\n",
              "4   538595  BD0115EN"
            ]
          },
          "execution_count": 28,
          "metadata": {},
          "output_type": "execute_result"
        }
      ],
      "source": [
        "test_user_url = \"https://cf-courses-data.s3.us.cloud-object-storage.appdomain.cloud/IBM-ML321EN-SkillsNetwork/labs/datasets/rs_content_test.csv\"\n",
        "test_users_df = pd.read_csv(test_user_url)[['user', 'item']]\n",
        "test_users_df.head()"
      ]
    },
    {
      "cell_type": "markdown",
      "metadata": {
        "id": "-kk1QHhcrGyg"
      },
      "source": [
        "The test users dataset has only two columns, the user id and the enrolled course id.\n"
      ]
    },
    {
      "cell_type": "markdown",
      "metadata": {
        "id": "UqrALSBPrGyg"
      },
      "source": [
        "For each user, let's find its cluster label using the k-means results you have performed in previous steps, assuming it is named `cluster_df`.\n"
      ]
    },
    {
      "cell_type": "markdown",
      "metadata": {
        "id": "f1CqMF7drGyg"
      },
      "source": [
        "You can assign the cluster label to all test users via merging the clustering labels (`cluster_df`:):\n"
      ]
    },
    {
      "cell_type": "code",
      "execution_count": 29,
      "metadata": {
        "id": "nfq9_2oJrGyg"
      },
      "outputs": [],
      "source": [
        "test_users_labelled = pd.merge(test_users_df, pca_cluster_df, left_on='user', right_on='user')"
      ]
    },
    {
      "cell_type": "code",
      "execution_count": 30,
      "metadata": {
        "colab": {
          "base_uri": "https://localhost:8080/",
          "height": 424
        },
        "id": "ihjiVlhfrGyh",
        "outputId": "ef8926a9-e2f0-4131-9331-fd46908d2933"
      },
      "outputs": [
        {
          "data": {
            "text/html": [
              "<div>\n",
              "<style scoped>\n",
              "    .dataframe tbody tr th:only-of-type {\n",
              "        vertical-align: middle;\n",
              "    }\n",
              "\n",
              "    .dataframe tbody tr th {\n",
              "        vertical-align: top;\n",
              "    }\n",
              "\n",
              "    .dataframe thead th {\n",
              "        text-align: right;\n",
              "    }\n",
              "</style>\n",
              "<table border=\"1\" class=\"dataframe\">\n",
              "  <thead>\n",
              "    <tr style=\"text-align: right;\">\n",
              "      <th></th>\n",
              "      <th>user</th>\n",
              "      <th>item</th>\n",
              "      <th>cluster</th>\n",
              "    </tr>\n",
              "  </thead>\n",
              "  <tbody>\n",
              "    <tr>\n",
              "      <th>0</th>\n",
              "      <td>1502801</td>\n",
              "      <td>RP0105EN</td>\n",
              "      <td>15</td>\n",
              "    </tr>\n",
              "    <tr>\n",
              "      <th>1</th>\n",
              "      <td>1502801</td>\n",
              "      <td>BD0131EN</td>\n",
              "      <td>15</td>\n",
              "    </tr>\n",
              "    <tr>\n",
              "      <th>2</th>\n",
              "      <td>1502801</td>\n",
              "      <td>BD0212EN</td>\n",
              "      <td>15</td>\n",
              "    </tr>\n",
              "    <tr>\n",
              "      <th>3</th>\n",
              "      <td>1502801</td>\n",
              "      <td>BD0115EN</td>\n",
              "      <td>15</td>\n",
              "    </tr>\n",
              "    <tr>\n",
              "      <th>4</th>\n",
              "      <td>1502801</td>\n",
              "      <td>BD0211EN</td>\n",
              "      <td>15</td>\n",
              "    </tr>\n",
              "    <tr>\n",
              "      <th>...</th>\n",
              "      <td>...</td>\n",
              "      <td>...</td>\n",
              "      <td>...</td>\n",
              "    </tr>\n",
              "    <tr>\n",
              "      <th>9397</th>\n",
              "      <td>630511</td>\n",
              "      <td>BD0121EN</td>\n",
              "      <td>5</td>\n",
              "    </tr>\n",
              "    <tr>\n",
              "      <th>9398</th>\n",
              "      <td>630511</td>\n",
              "      <td>SC0101EN</td>\n",
              "      <td>5</td>\n",
              "    </tr>\n",
              "    <tr>\n",
              "      <th>9399</th>\n",
              "      <td>630511</td>\n",
              "      <td>BD0111EN</td>\n",
              "      <td>5</td>\n",
              "    </tr>\n",
              "    <tr>\n",
              "      <th>9400</th>\n",
              "      <td>630511</td>\n",
              "      <td>BD0115EN</td>\n",
              "      <td>5</td>\n",
              "    </tr>\n",
              "    <tr>\n",
              "      <th>9401</th>\n",
              "      <td>630511</td>\n",
              "      <td>PY0101EN</td>\n",
              "      <td>5</td>\n",
              "    </tr>\n",
              "  </tbody>\n",
              "</table>\n",
              "<p>9402 rows × 3 columns</p>\n",
              "</div>"
            ],
            "text/plain": [
              "         user      item  cluster\n",
              "0     1502801  RP0105EN       15\n",
              "1     1502801  BD0131EN       15\n",
              "2     1502801  BD0212EN       15\n",
              "3     1502801  BD0115EN       15\n",
              "4     1502801  BD0211EN       15\n",
              "...       ...       ...      ...\n",
              "9397   630511  BD0121EN        5\n",
              "9398   630511  SC0101EN        5\n",
              "9399   630511  BD0111EN        5\n",
              "9400   630511  BD0115EN        5\n",
              "9401   630511  PY0101EN        5\n",
              "\n",
              "[9402 rows x 3 columns]"
            ]
          },
          "execution_count": 30,
          "metadata": {},
          "output_type": "execute_result"
        }
      ],
      "source": [
        "test_users_labelled"
      ]
    },
    {
      "cell_type": "markdown",
      "metadata": {
        "id": "wwzTHXUErGyh"
      },
      "source": [
        "The merged the test dataset may look like the following:\n"
      ]
    },
    {
      "cell_type": "markdown",
      "metadata": {
        "id": "lppJQ92_rGyh"
      },
      "source": [
        "![](https://cf-courses-data.s3.us.cloud-object-storage.appdomain.cloud/IBM-ML321EN-SkillsNetwork/labs/module\\_3/images/test_users_label.png)\n"
      ]
    },
    {
      "cell_type": "markdown",
      "metadata": {
        "id": "t2rXwGAsrGyh"
      },
      "source": [
        "From the above dataframe, we know each user's enrolled courses and its cluster index."
      ]
    },
    {
      "cell_type": "markdown",
      "metadata": {
        "id": "2AlFxA5hrGyh"
      },
      "source": [
        "If we use a `groupby`  and `sum` aggregation, we can get the enrollments count for each course in each group, like the following code snippet:\n"
      ]
    },
    {
      "cell_type": "code",
      "execution_count": 46,
      "metadata": {
        "colab": {
          "base_uri": "https://localhost:8080/",
          "height": 424
        },
        "id": "gLtORnkTrGyh",
        "outputId": "a3f6ce03-f41f-4c07-9254-c7cd7c56c45c"
      },
      "outputs": [],
      "source": [
        "courses_cluster = test_users_labelled[['item', 'cluster']]\n",
        "courses_cluster['count'] = [1] * len(courses_cluster)\n",
        "courses_cluster = courses_cluster.groupby(['cluster','item']).agg(enrollments = ('count','sum')).reset_index()"
      ]
    },
    {
      "cell_type": "code",
      "execution_count": 49,
      "metadata": {
        "colab": {
          "base_uri": "https://localhost:8080/"
        },
        "id": "3uye3651sHmq",
        "outputId": "812948ac-8b5c-4593-9c00-0b92e9430148"
      },
      "outputs": [
        {
          "ename": "KeyError",
          "evalue": "'count'",
          "output_type": "error",
          "traceback": [
            "\u001b[0;31m---------------------------------------------------------------------------\u001b[0m",
            "\u001b[0;31mKeyError\u001b[0m                                  Traceback (most recent call last)",
            "File \u001b[0;32m~/.local/lib/python3.9/site-packages/pandas/core/indexes/base.py:3629\u001b[0m, in \u001b[0;36mIndex.get_loc\u001b[0;34m(self, key, method, tolerance)\u001b[0m\n\u001b[1;32m   3628\u001b[0m \u001b[39mtry\u001b[39;00m:\n\u001b[0;32m-> 3629\u001b[0m     \u001b[39mreturn\u001b[39;00m \u001b[39mself\u001b[39;49m\u001b[39m.\u001b[39;49m_engine\u001b[39m.\u001b[39;49mget_loc(casted_key)\n\u001b[1;32m   3630\u001b[0m \u001b[39mexcept\u001b[39;00m \u001b[39mKeyError\u001b[39;00m \u001b[39mas\u001b[39;00m err:\n",
            "File \u001b[0;32m~/.local/lib/python3.9/site-packages/pandas/_libs/index.pyx:136\u001b[0m, in \u001b[0;36mpandas._libs.index.IndexEngine.get_loc\u001b[0;34m()\u001b[0m\n",
            "File \u001b[0;32m~/.local/lib/python3.9/site-packages/pandas/_libs/index.pyx:163\u001b[0m, in \u001b[0;36mpandas._libs.index.IndexEngine.get_loc\u001b[0;34m()\u001b[0m\n",
            "File \u001b[0;32mpandas/_libs/hashtable_class_helper.pxi:5198\u001b[0m, in \u001b[0;36mpandas._libs.hashtable.PyObjectHashTable.get_item\u001b[0;34m()\u001b[0m\n",
            "File \u001b[0;32mpandas/_libs/hashtable_class_helper.pxi:5206\u001b[0m, in \u001b[0;36mpandas._libs.hashtable.PyObjectHashTable.get_item\u001b[0;34m()\u001b[0m\n",
            "\u001b[0;31mKeyError\u001b[0m: 'count'",
            "\nThe above exception was the direct cause of the following exception:\n",
            "\u001b[0;31mKeyError\u001b[0m                                  Traceback (most recent call last)",
            "Cell \u001b[0;32mIn [49], line 1\u001b[0m\n\u001b[0;32m----> 1\u001b[0m courses_cluster[\u001b[39m'\u001b[39;49m\u001b[39mcount\u001b[39;49m\u001b[39m'\u001b[39;49m]\n",
            "File \u001b[0;32m~/.local/lib/python3.9/site-packages/pandas/core/frame.py:3505\u001b[0m, in \u001b[0;36mDataFrame.__getitem__\u001b[0;34m(self, key)\u001b[0m\n\u001b[1;32m   3503\u001b[0m \u001b[39mif\u001b[39;00m \u001b[39mself\u001b[39m\u001b[39m.\u001b[39mcolumns\u001b[39m.\u001b[39mnlevels \u001b[39m>\u001b[39m \u001b[39m1\u001b[39m:\n\u001b[1;32m   3504\u001b[0m     \u001b[39mreturn\u001b[39;00m \u001b[39mself\u001b[39m\u001b[39m.\u001b[39m_getitem_multilevel(key)\n\u001b[0;32m-> 3505\u001b[0m indexer \u001b[39m=\u001b[39m \u001b[39mself\u001b[39;49m\u001b[39m.\u001b[39;49mcolumns\u001b[39m.\u001b[39;49mget_loc(key)\n\u001b[1;32m   3506\u001b[0m \u001b[39mif\u001b[39;00m is_integer(indexer):\n\u001b[1;32m   3507\u001b[0m     indexer \u001b[39m=\u001b[39m [indexer]\n",
            "File \u001b[0;32m~/.local/lib/python3.9/site-packages/pandas/core/indexes/base.py:3631\u001b[0m, in \u001b[0;36mIndex.get_loc\u001b[0;34m(self, key, method, tolerance)\u001b[0m\n\u001b[1;32m   3629\u001b[0m     \u001b[39mreturn\u001b[39;00m \u001b[39mself\u001b[39m\u001b[39m.\u001b[39m_engine\u001b[39m.\u001b[39mget_loc(casted_key)\n\u001b[1;32m   3630\u001b[0m \u001b[39mexcept\u001b[39;00m \u001b[39mKeyError\u001b[39;00m \u001b[39mas\u001b[39;00m err:\n\u001b[0;32m-> 3631\u001b[0m     \u001b[39mraise\u001b[39;00m \u001b[39mKeyError\u001b[39;00m(key) \u001b[39mfrom\u001b[39;00m \u001b[39merr\u001b[39;00m\n\u001b[1;32m   3632\u001b[0m \u001b[39mexcept\u001b[39;00m \u001b[39mTypeError\u001b[39;00m:\n\u001b[1;32m   3633\u001b[0m     \u001b[39m# If we have a listlike key, _check_indexing_error will raise\u001b[39;00m\n\u001b[1;32m   3634\u001b[0m     \u001b[39m#  InvalidIndexError. Otherwise we fall through and re-raise\u001b[39;00m\n\u001b[1;32m   3635\u001b[0m     \u001b[39m#  the TypeError.\u001b[39;00m\n\u001b[1;32m   3636\u001b[0m     \u001b[39mself\u001b[39m\u001b[39m.\u001b[39m_check_indexing_error(key)\n",
            "\u001b[0;31mKeyError\u001b[0m: 'count'"
          ]
        }
      ],
      "source": [
        "courses_cluster['count']"
      ]
    },
    {
      "cell_type": "markdown",
      "metadata": {
        "id": "N14MQmbzrGyi"
      },
      "source": [
        "*TODO: For each test user, try to recommend any unseen courses based on the popular courses in his/her cluster. You may use an enrollment count threshold (such as larger than 10) to determine if it is a popular course in the cluster*\n"
      ]
    },
    {
      "cell_type": "code",
      "execution_count": 57,
      "metadata": {
        "id": "HoUGLxL3rGyi"
      },
      "outputs": [],
      "source": [
        "## WRITE YOUR CODE HERE\n",
        "cluster_rec = pd.DataFrame()\n",
        "## - For each user, first finds its cluster label\n",
        "users = []\n",
        "recommendation_courses = []\n",
        "for user_id in user_ids['user'].tolist():\n",
        "    user_cluster = int(pca_cluster_df[pca_cluster_df['user'] == user_id]['cluster'])\n",
        "    ## - First get all courses belonging to the same cluster and figure out what are the popular ones (such as course enrollments beyond a threshold like 100)\n",
        "    popular_courses = set(courses_cluster[(courses_cluster['cluster'] == user_cluster) & (courses_cluster['enrollments'] >= 10)]['item'])\n",
        "    ## - Get the user's current enrolled courses\n",
        "    user_enrolled_courses = test_users_df[test_users_df['user']==user_id]['item'].to_list()\n",
        "    ## - Check if there are any courses on the popular course list which are new/unseen to the user. \n",
        "    unselected_courses = popular_courses.difference(user_enrolled_courses)\n",
        "    ## If yes, make those unseen and popular courses as recommendation results for the user\n",
        "    for course in unselected_courses:\n",
        "        users.append(user_id)\n",
        "        recommendation_courses.append(course)\n",
        "\n",
        "cluster_rec['user'] = users\n",
        "cluster_rec['recommendation'] = recommendation_courses"
      ]
    },
    {
      "cell_type": "code",
      "execution_count": 61,
      "metadata": {
        "colab": {
          "base_uri": "https://localhost:8080/",
          "height": 424
        },
        "id": "If8ZbEhSr0WX",
        "outputId": "79f4500f-38d0-46b5-dac6-b72dd99caa0c"
      },
      "outputs": [
        {
          "data": {
            "text/plain": [
              "21.81427631185305"
            ]
          },
          "execution_count": 61,
          "metadata": {},
          "output_type": "execute_result"
        }
      ],
      "source": [
        "cluster_rec['user'].value_counts().mean()"
      ]
    },
    {
      "cell_type": "code",
      "execution_count": 62,
      "metadata": {},
      "outputs": [
        {
          "data": {
            "text/plain": [
              "DS0101EN      32354\n",
              "PY0101EN      32324\n",
              "BD0101EN      31481\n",
              "BD0111EN      30589\n",
              "BD0211EN      26515\n",
              "ST0101EN      24611\n",
              "ML0101ENv3    23724\n",
              "DS0103EN      22813\n",
              "DS0105EN      22363\n",
              "DA0101EN      21583\n",
              "Name: recommendation, dtype: int64"
            ]
          },
          "execution_count": 62,
          "metadata": {},
          "output_type": "execute_result"
        }
      ],
      "source": [
        "cluster_rec['recommendation'].value_counts()[:10]"
      ]
    },
    {
      "cell_type": "markdown",
      "metadata": {
        "id": "YCZcNEKNrGyi"
      },
      "source": [
        "With the recommendation results, you also need to write some analytic code to answer the following two questions:\n"
      ]
    },
    {
      "cell_type": "markdown",
      "metadata": {
        "id": "l_gDkPpHrGyi"
      },
      "source": [
        "*   On average, how many new/unseen courses have been recommended to each user?\n",
        "*   What are the most frequently recommended courses? Return the top-10 commonly recommended courses across all users.\n"
      ]
    },
    {
      "cell_type": "markdown",
      "metadata": {
        "id": "2-xSHokIrGyi"
      },
      "source": [
        "For example, suppose we have only 3 test users, each user receives the following recommendations:\n"
      ]
    },
    {
      "cell_type": "markdown",
      "metadata": {
        "id": "_fRwYXlIrGyj"
      },
      "source": [
        "*   User1: \\['course1', 'course2']\n",
        "*   User2: \\['course3', 'course4']\n",
        "*   User3: \\['course3', 'course4', 'course5']\n"
      ]
    },
    {
      "cell_type": "markdown",
      "metadata": {
        "id": "rktv-XXQrGyj"
      },
      "source": [
        "Then, the average recommended courses per user is $(2 + 2 + 3) / 3 = 2.33$. The top-2 recommended courses are: `course3`: 2 times, and `course4`: 2 times.\n"
      ]
    },
    {
      "cell_type": "markdown",
      "metadata": {
        "id": "QDOUv4BdrGyj"
      },
      "source": [
        "Note that the answers will depend on how you compute the popular courses for each cluster. A lower threshold yields more recommended courses but with smaller confidence so that some test users may receive very long course recommendation lists and feel overwhelmed.\n",
        "\n",
        "Ideally, we should limit the maximum course recommendations for each user to be less than 20 courses per user.\n"
      ]
    },
    {
      "cell_type": "markdown",
      "metadata": {
        "id": "f_1YYpFGrGyj"
      },
      "source": [
        "### Explore other clustering algorithms\n"
      ]
    },
    {
      "cell_type": "markdown",
      "metadata": {
        "id": "jE6-zozLrGyj"
      },
      "source": [
        "As you have learned in previous unsupervised learning course, there are many other clustering algorithms such as `DBSCAN` and `Hierarchical Clustering`. You are encouraged to try them on the user profile feature vectors and compare the results with K-means.\n"
      ]
    },
    {
      "cell_type": "markdown",
      "metadata": {
        "id": "zWmIuE_2rGyj"
      },
      "source": [
        "### Summary\n"
      ]
    },
    {
      "cell_type": "markdown",
      "metadata": {
        "id": "RTK3GqZ-rGyj"
      },
      "source": [
        "Congratulations! In this lab, you have applied clustering algorithms to group users with similar interests and also tried PCA to reduce the dimensions of user feature vectors.\n",
        "\n",
        "Furthermore, with each user finding its learning interest group, you have also implemented clustering-based course recommender system to make recommendations based on his/her group members' popular courses choices.\n"
      ]
    },
    {
      "cell_type": "markdown",
      "metadata": {
        "id": "94CFkQ6vrGyk"
      },
      "source": [
        "## Authors\n"
      ]
    },
    {
      "cell_type": "markdown",
      "metadata": {
        "id": "Cq53u2wHrGyk"
      },
      "source": [
        "[Yan Luo](https://www.linkedin.com/in/yan-luo-96288783/?utm_medium=Exinfluencer&utm_source=Exinfluencer&utm_content=000026UJ&utm_term=10006555&utm_id=NA-SkillsNetwork-Channel-SkillsNetworkCoursesIBMML321ENSkillsNetwork32585014-2022-01-01)\n"
      ]
    },
    {
      "cell_type": "markdown",
      "metadata": {
        "id": "ouT7RIoYrGyk"
      },
      "source": [
        "### Other Contributors\n"
      ]
    },
    {
      "cell_type": "markdown",
      "metadata": {
        "id": "scL4iolVrGyk"
      },
      "source": [
        "## Change Log\n"
      ]
    },
    {
      "cell_type": "markdown",
      "metadata": {
        "id": "PIj6KWwOrGyk"
      },
      "source": [
        "| Date (YYYY-MM-DD) | Version | Changed By | Change Description          |\n",
        "| ----------------- | ------- | ---------- | --------------------------- |\n",
        "| 2021-10-25        | 1.0     | Yan        | Created the initial version |\n"
      ]
    },
    {
      "cell_type": "markdown",
      "metadata": {
        "id": "dPIf_vKLrGyk"
      },
      "source": [
        "Copyright © 2021 IBM Corporation. All rights reserved.\n"
      ]
    }
  ],
  "metadata": {
    "colab": {
      "provenance": []
    },
    "kernelspec": {
      "display_name": "Python 3.9.2 64-bit",
      "language": "python",
      "name": "python3"
    },
    "language_info": {
      "codemirror_mode": {
        "name": "ipython",
        "version": 3
      },
      "file_extension": ".py",
      "mimetype": "text/x-python",
      "name": "python",
      "nbconvert_exporter": "python",
      "pygments_lexer": "ipython3",
      "version": "3.9.2"
    },
    "vscode": {
      "interpreter": {
        "hash": "916dbcbb3f70747c44a77c7bcd40155683ae19c65e1c03b4aa3499c5328201f1"
      }
    }
  },
  "nbformat": 4,
  "nbformat_minor": 0
}
